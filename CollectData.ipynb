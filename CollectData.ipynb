{
 "cells": [
  {
   "cell_type": "code",
   "execution_count": 1,
   "metadata": {},
   "outputs": [
    {
     "name": "stdout",
     "output_type": "stream",
     "text": [
      "Listening to Max on ('127.0.0.1', 8003)\n",
      "If the camera is not on, please run turn_on_camera().\n"
     ]
    }
   ],
   "source": [
    "from data_collection.data_collection import *\n",
    "from shimi import *\n",
    "\n",
    "# Load Shimi\n",
    "shimi = Shimi(silent=True)\n",
    "\n",
    "# Load data collector class\n",
    "collector = DataCollector(False)"
   ]
  },
  {
   "cell_type": "code",
   "execution_count": 92,
   "metadata": {
    "collapsed": true
   },
   "outputs": [],
   "source": [
    "SUBJECT_NUMBER = 0\n",
    "GESTURE_NUMBER = 1\n",
    "POSITION = 0"
   ]
  },
  {
   "cell_type": "code",
   "execution_count": null,
   "metadata": {},
   "outputs": [],
   "source": [
    "collector.record_new_video_gesture(SUBJECT_NUMBER, GESTURE_NUMBER, POSITION, duration=4.0)"
   ]
  },
  {
   "cell_type": "code",
   "execution_count": 93,
   "metadata": {},
   "outputs": [
    {
     "name": "stdout",
     "output_type": "stream",
     "text": [
      "Finding video...\n",
      "Playing 0_1_0_101118_163845.mov...\n"
     ]
    }
   ],
   "source": [
    "collector.play_video_gesture(SUBJECT_NUMBER, GESTURE_NUMBER, POSITION)"
   ]
  },
  {
   "cell_type": "code",
   "execution_count": null,
   "metadata": {
    "collapsed": true
   },
   "outputs": [],
   "source": [
    "collector.turn_on_camera()"
   ]
  },
  {
   "cell_type": "code",
   "execution_count": null,
   "metadata": {
    "collapsed": true
   },
   "outputs": [],
   "source": [
    "collector.turn_off_camera()"
   ]
  },
  {
   "cell_type": "code",
   "execution_count": 87,
   "metadata": {},
   "outputs": [
    {
     "name": "stdout",
     "output_type": "stream",
     "text": [
      "Finding video...\n",
      "3.0...\n",
      "2.0...\n",
      "1.0...\n",
      "Recording...\n",
      "Done. Recorded 1094 positions and 1094 velocities.\n"
     ]
    }
   ],
   "source": [
    "r_torso_neck = collector.record_new_shimi_gesture(shimi, SUBJECT_NUMBER, GESTURE_NUMBER, POSITION)"
   ]
  },
  {
   "cell_type": "code",
   "execution_count": 41,
   "metadata": {
    "collapsed": true
   },
   "outputs": [],
   "source": [
    "r_torso_neck.play()"
   ]
  },
  {
   "cell_type": "code",
   "execution_count": 89,
   "metadata": {},
   "outputs": [
    {
     "name": "stdout",
     "output_type": "stream",
     "text": [
      "Finding video...\n",
      "3.0...\n",
      "2.0...\n",
      "1.0...\n",
      "Recording...\n",
      "Done. Recorded 1632 positions and 1632 velocities.\n"
     ]
    }
   ],
   "source": [
    "r_foot_hand = collector.record_new_shimi_gesture(shimi, SUBJECT_NUMBER, GESTURE_NUMBER, POSITION, motors=[shimi.foot, shimi.phone])"
   ]
  },
  {
   "cell_type": "code",
   "execution_count": 33,
   "metadata": {
    "collapsed": true
   },
   "outputs": [],
   "source": [
    "r_foot_hand.play()"
   ]
  },
  {
   "cell_type": "code",
   "execution_count": 90,
   "metadata": {
    "collapsed": true
   },
   "outputs": [],
   "source": [
    "r_torso_neck.add_recording(r_foot_hand)"
   ]
  },
  {
   "cell_type": "code",
   "execution_count": 91,
   "metadata": {
    "collapsed": true
   },
   "outputs": [],
   "source": [
    "collector.save_shimi_gesture(r_torso_neck, SUBJECT_NUMBER, GESTURE_NUMBER, POSITION)"
   ]
  },
  {
   "cell_type": "code",
   "execution_count": 36,
   "metadata": {},
   "outputs": [
    {
     "name": "stdout",
     "output_type": "stream",
     "text": [
      "Finding shimi gesture...\n",
      "Finding video...\n",
      "Starting motion, calling back...\n"
     ]
    }
   ],
   "source": [
    "collector.play_video_and_shimi(shimi, SUBJECT_NUMBER, GESTURE_NUMBER, POSITION)"
   ]
  },
  {
   "cell_type": "code",
   "execution_count": 88,
   "metadata": {},
   "outputs": [
    {
     "name": "stdout",
     "output_type": "stream",
     "text": [
      "Finding video...\n",
      "Starting motion, calling back...\n"
     ]
    }
   ],
   "source": [
    "collector.play_video_and_shimi(shimi, SUBJECT_NUMBER, GESTURE_NUMBER, POSITION, recorder=r_torso_neck)"
   ]
  },
  {
   "cell_type": "code",
   "execution_count": 59,
   "metadata": {
    "collapsed": true
   },
   "outputs": [],
   "source": [
    "shimi.initial_position()"
   ]
  },
  {
   "cell_type": "code",
   "execution_count": 60,
   "metadata": {
    "collapsed": true
   },
   "outputs": [],
   "source": [
    "shimi.disable_torque()"
   ]
  },
  {
   "cell_type": "code",
   "execution_count": null,
   "metadata": {
    "collapsed": true
   },
   "outputs": [],
   "source": []
  }
 ],
 "metadata": {
  "kernelspec": {
   "display_name": "Python (shimi)",
   "language": "python",
   "name": "shimi"
  },
  "language_info": {
   "codemirror_mode": {
    "name": "ipython",
    "version": 3
   },
   "file_extension": ".py",
   "mimetype": "text/x-python",
   "name": "python",
   "nbconvert_exporter": "python",
   "pygments_lexer": "ipython3",
   "version": "3.6.6"
  }
 },
 "nbformat": 4,
 "nbformat_minor": 1
}
