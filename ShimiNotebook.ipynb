{
 "cells": [
  {
   "cell_type": "code",
   "execution_count": 1,
   "metadata": {},
   "outputs": [
    {
     "name": "stdout",
     "output_type": "stream",
     "text": [
      "pygame 1.9.4\n",
      "Hello from the pygame community. https://www.pygame.org/contribute.html\n",
      "WARNING, MOTOR ERROR. list index out of range\n"
     ]
    }
   ],
   "source": [
    "# Import some matplolib shortcuts for Jupyter notebook\n",
    "%matplotlib inline\n",
    "\n",
    "import numpy as np\n",
    "import matplotlib.pyplot as plt\n",
    "from shimi import *\n",
    "from motion.move import *\n",
    "from config.definitions import *\n",
    "from motion.recorder import *\n",
    "from motion.playback import *\n",
    "from audio.audio import *\n",
    "from audio.play_song_demo import *\n",
    "from posenet.posenet import *\n",
    "from utils.utils import *\n",
    "\n",
    "import time\n",
    "import datetime\n",
    "\n",
    "from copy import deepcopy\n",
    "\n",
    "import os\n",
    "\n",
    "import threading\n",
    "\n",
    "# Load Shimi\n",
    "shimi = Shimi(silent=False)\n",
    "\n",
    "local_gestures = {}"
   ]
  },
  {
   "cell_type": "markdown",
   "metadata": {},
   "source": [
    "The cell below defines the recorder object. The first parameter is a reference to the motor controller, the second is a **list** of motor ids, referenced by a convenience property on `shimi`. The options are as follows:\n",
    "* `shimi.torso`\n",
    "* `shimi.neck_lr`\n",
    "* `shimi.neck_ud`\n",
    "* `shimi.phone`\n",
    "* `shimi.foot`\n",
    "* `shimi.all_motors`: this **returns a list**, so you don't need to wrap it in one in this call\n",
    "\n",
    "\n",
    "The final parameter is the duration for which you want to record."
   ]
  },
  {
   "cell_type": "code",
   "execution_count": null,
   "metadata": {
    "collapsed": true
   },
   "outputs": [],
   "source": [
    "r = Recorder(shimi, shimi.all_motors, 5.0)"
   ]
  },
  {
   "cell_type": "markdown",
   "metadata": {},
   "source": [
    "This starts a recording. It will count down from 3 to let you know when the recording starts, then move Shimi as you want it to move. **The first thing this call does is relax the motors, so be sure it doesn't collapse on itself when you call this.**"
   ]
  },
  {
   "cell_type": "code",
   "execution_count": null,
   "metadata": {
    "collapsed": true,
    "scrolled": false
   },
   "outputs": [],
   "source": [
    "r.record()\n",
    "r.plot(plt.axes())"
   ]
  },
  {
   "cell_type": "markdown",
   "metadata": {},
   "source": [
    "Then, run this to play back the recorded gesture."
   ]
  },
  {
   "cell_type": "code",
   "execution_count": null,
   "metadata": {
    "collapsed": true
   },
   "outputs": [],
   "source": [
    "r.play(plt.axes())"
   ]
  },
  {
   "cell_type": "code",
   "execution_count": null,
   "metadata": {
    "collapsed": true
   },
   "outputs": [],
   "source": [
    "r.plot(plt.axes())"
   ]
  },
  {
   "cell_type": "code",
   "execution_count": null,
   "metadata": {
    "collapsed": true
   },
   "outputs": [],
   "source": [
    "r.trim(0.4, end=\"front\")"
   ]
  },
  {
   "cell_type": "markdown",
   "metadata": {},
   "source": [
    "### Here are some helper functions."
   ]
  },
  {
   "cell_type": "code",
   "execution_count": null,
   "metadata": {
    "collapsed": true
   },
   "outputs": [],
   "source": [
    "# Puts shimi in a neutral position with motors non-compliant\n",
    "shimi.initial_position()"
   ]
  },
  {
   "cell_type": "markdown",
   "metadata": {},
   "source": [
    "### **Make sure Shimi will not collapse before you run this!!!**"
   ]
  },
  {
   "cell_type": "code",
   "execution_count": null,
   "metadata": {
    "collapsed": true
   },
   "outputs": [],
   "source": [
    "# Makes the motors compliant\n",
    "shimi.disable_torque()"
   ]
  },
  {
   "cell_type": "code",
   "execution_count": null,
   "metadata": {
    "collapsed": true
   },
   "outputs": [],
   "source": [
    "play_outkast(shimi)"
   ]
  },
  {
   "cell_type": "code",
   "execution_count": null,
   "metadata": {
    "collapsed": true
   },
   "outputs": [],
   "source": [
    "play_opera(shimi)"
   ]
  },
  {
   "cell_type": "code",
   "execution_count": null,
   "metadata": {
    "collapsed": true
   },
   "outputs": [],
   "source": [
    "p.start_posenet()"
   ]
  },
  {
   "cell_type": "code",
   "execution_count": null,
   "metadata": {
    "collapsed": true
   },
   "outputs": [],
   "source": [
    "p.stop_posenet()"
   ]
  },
  {
   "cell_type": "code",
   "execution_count": null,
   "metadata": {
    "collapsed": true
   },
   "outputs": [],
   "source": [
    "PlaySongDemoOnce(shimi)"
   ]
  },
  {
   "cell_type": "code",
   "execution_count": null,
   "metadata": {
    "collapsed": true
   },
   "outputs": [],
   "source": [
    "import sounddevice as sd\n",
    "import music21 as m21\n",
    "import pretty_midi as pm"
   ]
  },
  {
   "cell_type": "code",
   "execution_count": null,
   "metadata": {
    "collapsed": true
   },
   "outputs": [],
   "source": [
    "test_pm = pm.PrettyMIDI('audio/test.mid')"
   ]
  },
  {
   "cell_type": "code",
   "execution_count": null,
   "metadata": {
    "collapsed": true
   },
   "outputs": [],
   "source": [
    "out = test_pm.synthesize()"
   ]
  },
  {
   "cell_type": "code",
   "execution_count": null,
   "metadata": {
    "collapsed": true
   },
   "outputs": [],
   "source": [
    "sd.play(out)"
   ]
  },
  {
   "cell_type": "code",
   "execution_count": null,
   "metadata": {
    "collapsed": true
   },
   "outputs": [],
   "source": [
    "f = m21.midi.MidiFile()\n",
    "f.open('audio/test.mid')\n",
    "f.read()\n",
    "s = m21.midi.translate.midiFileToStream(f)"
   ]
  },
  {
   "cell_type": "code",
   "execution_count": null,
   "metadata": {
    "collapsed": true
   },
   "outputs": [],
   "source": [
    "for i in s.melodicIntervals(skipRests=True):\n",
    "    print(i)"
   ]
  },
  {
   "cell_type": "code",
   "execution_count": null,
   "metadata": {
    "collapsed": true
   },
   "outputs": [],
   "source": [
    "s.measures(1, 2).analyze('key')"
   ]
  },
  {
   "cell_type": "code",
   "execution_count": null,
   "metadata": {
    "collapsed": true
   },
   "outputs": [],
   "source": [
    "s.measures(1, 3).pitches"
   ]
  },
  {
   "cell_type": "code",
   "execution_count": null,
   "metadata": {
    "collapsed": true
   },
   "outputs": [],
   "source": [
    "test_pm.get_downbeats()"
   ]
  },
  {
   "cell_type": "code",
   "execution_count": null,
   "metadata": {
    "collapsed": true
   },
   "outputs": [],
   "source": [
    "from audio.midi_analysis import *\n",
    "a = MidiAnalysis('audio/test.mid')"
   ]
  },
  {
   "cell_type": "code",
   "execution_count": 21,
   "metadata": {
    "collapsed": true
   },
   "outputs": [],
   "source": [
    "import time\n",
    "\n",
    "def linear_accel_vel(**kwargs):\n",
    "    accel_time = 0.5\n",
    "    if \"accel_time\" in kwargs:\n",
    "        accel_time = kwargs[\"accel_time\"]\n",
    "    \n",
    "    times = []\n",
    "    vels = []\n",
    "\n",
    "    # Calculate the max velocity\n",
    "    max_vel = abs(current_pos - pos) / (accel_time * dur)\n",
    "    start_time = time.time()\n",
    "\n",
    "    # Increment speed over time at freq\n",
    "    while time.time() <= start_time + dur:\n",
    "        t = time.time() - start_time\n",
    "\n",
    "        # Calculate the velocity at this point in time\n",
    "        if t < (accel_time * dur):\n",
    "            vel = max_vel * (t / (accel_time * dur))\n",
    "        else:\n",
    "            vel = max_vel\n",
    "        \n",
    "        times.append(t)\n",
    "        vels.append(vel)\n",
    "\n",
    "        # Wait to update again\n",
    "        time.sleep(freq)\n",
    "        \n",
    "    return times, vels\n",
    "\n",
    "def linear_decel_vel(**kwargs):\n",
    "    decel_time = 0.2\n",
    "    if \"decel_time\" in kwargs:\n",
    "        decel_time = kwargs[\"decel_time\"]\n",
    "    \n",
    "    times = []\n",
    "    vels = []\n",
    "\n",
    "    # Calculate the max velocity\n",
    "    max_vel = abs(current_pos - pos) / ((1 - decel_time) * dur)\n",
    "    start_time = time.time()\n",
    "\n",
    "    # Increment speed over time at freq\n",
    "    while time.time() <= start_time + dur:\n",
    "        t = time.time() - start_time\n",
    "\n",
    "        # Calculate the velocity at this point in time\n",
    "        if t < (decel_time * dur):\n",
    "            vel = max_vel\n",
    "        else:\n",
    "            vel = max_vel * ((dur - t) / ((1 - decel_time) * dur))\n",
    "        \n",
    "        times.append(t)\n",
    "        vels.append(vel)\n",
    "\n",
    "        # Wait to update again\n",
    "        time.sleep(freq)\n",
    "        \n",
    "    return times, vels"
   ]
  },
  {
   "cell_type": "code",
   "execution_count": 22,
   "metadata": {},
   "outputs": [
    {
     "name": "stdout",
     "output_type": "stream",
     "text": [
      "[7.152557373046875e-07, 0.052947998046875, 0.10669088363647461, 0.16170883178710938, 0.21500587463378906, 0.269320011138916, 0.3218257427215576, 0.3730897903442383, 0.4268229007720947, 0.48161983489990234, 0.5356669425964355, 0.5862598419189453, 0.6378939151763916, 0.691835880279541, 0.7463757991790771, 0.8005509376525879, 0.8552179336547852, 0.90535569190979, 0.9583399295806885] [1.25, 1.25, 1.25, 1.25, 1.2265533208847046, 1.1416874825954437, 1.0596472769975662, 0.9795472025871277, 0.895589217543602, 0.8099690079689026, 0.7255204021930695, 0.646468997001648, 0.5657907575368881, 0.48150643706321716, 0.39628781378269196, 0.3116391599178314, 0.2262219786643982, 0.14788173139095306, 0.06509386003017426]\n"
     ]
    }
   ],
   "source": [
    "freq = 0.05\n",
    "current_pos = 0.0\n",
    "pos = 1.0\n",
    "dur = 1.0\n",
    "ts, vs = linear_decel_vel()\n",
    "print(ts, vs)"
   ]
  },
  {
   "cell_type": "code",
   "execution_count": null,
   "metadata": {
    "collapsed": true
   },
   "outputs": [],
   "source": []
  }
 ],
 "metadata": {
  "kernelspec": {
   "display_name": "Python (shimi)",
   "language": "python",
   "name": "shimi"
  },
  "language_info": {
   "codemirror_mode": {
    "name": "ipython",
    "version": 3
   },
   "file_extension": ".py",
   "mimetype": "text/x-python",
   "name": "python",
   "nbconvert_exporter": "python",
   "pygments_lexer": "ipython3",
   "version": "3.6.6"
  }
 },
 "nbformat": 4,
 "nbformat_minor": 2
}
