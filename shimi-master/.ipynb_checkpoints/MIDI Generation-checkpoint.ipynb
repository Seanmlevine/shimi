{
 "cells": [
  {
   "cell_type": "code",
   "execution_count": null,
   "metadata": {
    "collapsed": true
   },
   "outputs": [],
   "source": [
    "import music21 as m21\n",
    "import random\n",
    "\n",
    "quarter = m21.duration.Duration()\n",
    "half = m21.duration.Duration()\n",
    "half.quarterLength = 2\n",
    "eighth = m21.duration.Duration()\n",
    "eighth.quarterLength = 0.5\n",
    "\n",
    "pp = m21.dynamics.Dynamic('pp')\n",
    "p = m21.dynamics.Dynamic('p')\n",
    "f = m21.dynamics.Dynamic('f')\n",
    "\n",
    "s = m21.stream.Stream()\n",
    "\n",
    "n = m21.note.Note()\n",
    "n.duration = random.choice([eighth, half, quarter])\n",
    "n1 = m21.note.Note()\n",
    "n1.duration = random.choice([eighth, half, quarter])\n",
    "n2 = m21.note.Note()\n",
    "n2.duration = random.choice([eighth, half, quarter])\n",
    "\n",
    "s.append(n)\n",
    "s.append(n1)\n",
    "s.append(n2)\n",
    "\n",
    "for n in s.notes:\n",
    "    s.insert(n.offset, m21.dynamics.Dynamic(random.choice(['pp', 'p', 'fp'])))\n",
    "\n",
    "# write to midi file\n",
    "f = m21.midi.translate.streamToMidiFile(s)\n",
    "f.open(\"keshav.mid\", \"wb\")\n",
    "f.write()\n",
    "f.close()\n",
    "\n",
    "    \n",
    "s.show()"
   ]
  }
 ],
 "metadata": {
  "kernelspec": {
   "display_name": "Python (shimi)",
   "language": "python",
   "name": "shimi"
  },
  "language_info": {
   "codemirror_mode": {
    "name": "ipython",
    "version": 3
   },
   "file_extension": ".py",
   "mimetype": "text/x-python",
   "name": "python",
   "nbconvert_exporter": "python",
   "pygments_lexer": "ipython3",
   "version": "3.6.6"
  }
 },
 "nbformat": 4,
 "nbformat_minor": 2
}
