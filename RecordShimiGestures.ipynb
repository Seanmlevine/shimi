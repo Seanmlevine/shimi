{
 "cells": [
  {
   "cell_type": "markdown",
   "metadata": {},
   "source": [
    "# Recording a Gesture for Shimi\n",
    "\n",
    "First, run the cell below to instatiate the shimi object. It should move to its initial positions and then relax."
   ]
  },
  {
   "cell_type": "code",
   "execution_count": 1,
   "metadata": {},
   "outputs": [
    {
     "name": "stdout",
     "output_type": "stream",
     "text": [
      "Connecting on /dev/tty.usbmodem1431\n",
      "Found motors with the following IDs: [1, 2, 3, 4, 5]\n",
      "(OrderedDict([('model', 'MX-28'),\n",
      "              ('firmware', 30),\n",
      "              ('id', 1),\n",
      "              ('baudrate', 1),\n",
      "              ('return delay time', 0),\n",
      "              ('angle limit', (-99.03, 14.64)),\n",
      "              ('highest temperature limit', 80.0),\n",
      "              ('voltage limit', (6.0, 16.0)),\n",
      "              ('max torque', 100.0),\n",
      "              ('status return level', 'always'),\n",
      "              ('alarm LED', ('Overload Error', 'Overheating Error')),\n",
      "              ('alarm shutdown', ('Overload Error', 'Overheating Error')),\n",
      "              ('torque_enable', True),\n",
      "              ('LED', False),\n",
      "              ('pid gain', (0.0, 0.0, 4.0)),\n",
      "              ('goal position', 9.63),\n",
      "              ('moving speed', 4.788),\n",
      "              ('torque limit', 100.0),\n",
      "              ('present position', 9.89),\n",
      "              ('present speed', 0.0),\n",
      "              ('present load', 3.1),\n",
      "              ('present voltage', 8.6),\n",
      "              ('present temperature', 43.0),\n",
      "              ('moving', False)]),\n",
      " OrderedDict([('model', 'MX-28'),\n",
      "              ('firmware', 29),\n",
      "              ('id', 2),\n",
      "              ('baudrate', 1),\n",
      "              ('return delay time', 0),\n",
      "              ('angle limit', (-111.6, 68.44)),\n",
      "              ('highest temperature limit', 80.0),\n",
      "              ('voltage limit', (6.0, 16.0)),\n",
      "              ('max torque', 100.0),\n",
      "              ('status return level', 'always'),\n",
      "              ('alarm LED', ('Overload Error', 'Overheating Error')),\n",
      "              ('alarm shutdown', ('Overload Error', 'Overheating Error')),\n",
      "              ('torque_enable', True),\n",
      "              ('LED', False),\n",
      "              ('pid gain', (0.128, 0.0, 0.0)),\n",
      "              ('goal position', -21.58),\n",
      "              ('moving speed', 0.0),\n",
      "              ('torque limit', 100.0),\n",
      "              ('present position', -21.93),\n",
      "              ('present speed', 0.0),\n",
      "              ('present load', -2.3),\n",
      "              ('present voltage', 12.200000000000001),\n",
      "              ('present temperature', 43.0),\n",
      "              ('moving', False)]),\n",
      " OrderedDict([('model', 'MX-28'),\n",
      "              ('firmware', 30),\n",
      "              ('id', 3),\n",
      "              ('baudrate', 1),\n",
      "              ('return delay time', 0),\n",
      "              ('angle limit', (-50.42, 9.8)),\n",
      "              ('highest temperature limit', 80.0),\n",
      "              ('voltage limit', (6.0, 16.0)),\n",
      "              ('max torque', 100.0),\n",
      "              ('status return level', 'always'),\n",
      "              ('alarm LED', ('Overload Error', 'Overheating Error')),\n",
      "              ('alarm shutdown', ('Overload Error', 'Overheating Error')),\n",
      "              ('torque_enable', True),\n",
      "              ('LED', False),\n",
      "              ('pid gain', (0.0, 0.0, 4.0)),\n",
      "              ('goal position', -23.69),\n",
      "              ('moving speed', 43.776),\n",
      "              ('torque limit', 100.0),\n",
      "              ('present position', -22.64),\n",
      "              ('present speed', 0.0),\n",
      "              ('present load', 9.4),\n",
      "              ('present voltage', 8.9),\n",
      "              ('present temperature', 42.0),\n",
      "              ('moving', False)]),\n",
      " OrderedDict([('model', 'MX-28'),\n",
      "              ('firmware', 30),\n",
      "              ('id', 4),\n",
      "              ('baudrate', 1),\n",
      "              ('return delay time', 0),\n",
      "              ('angle limit', (-180.0, 180.0)),\n",
      "              ('highest temperature limit', 80.0),\n",
      "              ('voltage limit', (6.0, 16.0)),\n",
      "              ('max torque', 100.0),\n",
      "              ('status return level', 'always'),\n",
      "              ('alarm LED', ('Overload Error', 'Overheating Error')),\n",
      "              ('alarm shutdown', ('Overload Error', 'Overheating Error')),\n",
      "              ('torque_enable', True),\n",
      "              ('LED', False),\n",
      "              ('pid gain', (0.0, 0.0, 4.0)),\n",
      "              ('goal position', -11.82),\n",
      "              ('moving speed', 0.684),\n",
      "              ('torque limit', 100.0),\n",
      "              ('present position', -11.38),\n",
      "              ('present speed', 0.0),\n",
      "              ('present load', 3.9),\n",
      "              ('present voltage', 9.1),\n",
      "              ('present temperature', 40.0),\n",
      "              ('moving', False)]),\n",
      " OrderedDict([('model', 'MX-28'),\n",
      "              ('firmware', 30),\n",
      "              ('id', 5),\n",
      "              ('baudrate', 1),\n",
      "              ('return delay time', 0),\n",
      "              ('angle limit', (5.41, 21.14)),\n",
      "              ('highest temperature limit', 80.0),\n",
      "              ('voltage limit', (6.0, 16.0)),\n",
      "              ('max torque', 100.0),\n",
      "              ('status return level', 'always'),\n",
      "              ('alarm LED', ('Overload Error', 'Overheating Error')),\n",
      "              ('alarm shutdown', ('Overload Error', 'Overheating Error')),\n",
      "              ('torque_enable', True),\n",
      "              ('LED', False),\n",
      "              ('pid gain', (0.0, 0.0, 4.0)),\n",
      "              ('goal position', 5.41),\n",
      "              ('moving speed', 0.0),\n",
      "              ('torque limit', 100.0),\n",
      "              ('present position', 5.14),\n",
      "              ('present speed', 0.0),\n",
      "              ('present load', -2.3),\n",
      "              ('present voltage', 9.600000000000001),\n",
      "              ('present temperature', 38.0),\n",
      "              ('moving', False)]))\n",
      "Setting motors to starting positions:\n",
      "{1: 10.0, 2: -21.6, 3: 0.0, 4: -11.85, 5: 5.41}\n"
     ]
    }
   ],
   "source": [
    "# Import some matplolib shortcuts for Jupyter notebook\n",
    "%matplotlib inline\n",
    "\n",
    "import numpy as np\n",
    "import matplotlib.pyplot as plt\n",
    "\n",
    "from shimi import *\n",
    "from motion.move import *\n",
    "\n",
    "from motion.recorder import *\n",
    "from audio.audio import *\n",
    "from posenet.posenet import *\n",
    "import time\n",
    "import datetime\n",
    "\n",
    "from copy import deepcopy\n",
    "\n",
    "import os\n",
    "\n",
    "import threading\n",
    "\n",
    "# Load Shimi\n",
    "shimi = Shimi()\n",
    "\n",
    "local_gestures = {}"
   ]
  },
  {
   "cell_type": "markdown",
   "metadata": {},
   "source": [
    "The cell below defines the recorder object. The first parameter is a reference to the motor controller, the second is a **list** of motor ids, referenced by a convenience property on `shimi`. The options are as follows:\n",
    "* `shimi.torso`\n",
    "* `shimi.neck_lr`\n",
    "* `shimi.neck_ud`\n",
    "* `shimi.phone`\n",
    "* `shimi.foot`\n",
    "* `shimi.all_motors`: this **returns a list**, so you don't need to wrap it in one in this call\n",
    "\n",
    "\n",
    "The final parameter is the duration for which you want to record."
   ]
  },
  {
   "cell_type": "code",
   "execution_count": null,
   "metadata": {
    "collapsed": true
   },
   "outputs": [],
   "source": [
    "r = Recorder(shimi, shimi.all_motors, 5.0)"
   ]
  },
  {
   "cell_type": "markdown",
   "metadata": {},
   "source": [
    "This starts a recording. It will count down from 3 to let you know when the recording starts, then move Shimi as you want it to move. **The first thing this call does is relax the motors, so be sure it doesn't collapse on itself when you call this.**"
   ]
  },
  {
   "cell_type": "code",
   "execution_count": null,
   "metadata": {
    "collapsed": true
   },
   "outputs": [],
   "source": [
    "r.record()\n",
    "r.plot(plt.axes())"
   ]
  },
  {
   "cell_type": "markdown",
   "metadata": {},
   "source": [
    "Then, run this to play back the recorded gesture."
   ]
  },
  {
   "cell_type": "code",
   "execution_count": null,
   "metadata": {
    "collapsed": true
   },
   "outputs": [],
   "source": [
    "r.play()"
   ]
  },
  {
   "cell_type": "markdown",
   "metadata": {},
   "source": [
    "### Here are some helper functions."
   ]
  },
  {
   "cell_type": "code",
   "execution_count": null,
   "metadata": {},
   "outputs": [],
   "source": [
    "# Puts shimi in a neutral position with motors non-compliant\n",
    "shimi.initial_position()"
   ]
  },
  {
   "cell_type": "markdown",
   "metadata": {},
   "source": [
    "## **Make sure Shimi will not collapse before you run this!!!**"
   ]
  },
  {
   "cell_type": "code",
   "execution_count": null,
   "metadata": {
    "collapsed": true
   },
   "outputs": [],
   "source": [
    "# Makes the motors compliant\n",
    "shimi.disable_torque()"
   ]
  },
  {
   "cell_type": "markdown",
   "metadata": {},
   "source": [
    "### Here's a hard-coded demo of Shimi dancing to Hey Ya"
   ]
  },
  {
   "cell_type": "code",
   "execution_count": null,
   "metadata": {
    "collapsed": true
   },
   "outputs": [],
   "source": [
    "play_outkast(shimi)"
   ]
  },
  {
   "cell_type": "code",
   "execution_count": 2,
   "metadata": {},
   "outputs": [
    {
     "name": "stdout",
     "output_type": "stream",
     "text": [
      "Listening for OSC at 127.0.0.1 on port 8000\n",
      "Starting PoseNet...\n",
      "Receiving from PoseNet...\n"
     ]
    }
   ],
   "source": [
    "p = PoseNet(shimi)"
   ]
  },
  {
   "cell_type": "code",
   "execution_count": 3,
   "metadata": {},
   "outputs": [
    {
     "name": "stdout",
     "output_type": "stream",
     "text": [
      "3.0...\n",
      "2.0...\n",
      "1.0...\n",
      "Recording...\n",
      "Done. Recorded 20 positions.\n"
     ]
    }
   ],
   "source": [
    "p.record()"
   ]
  },
  {
   "cell_type": "code",
   "execution_count": 4,
   "metadata": {},
   "outputs": [
    {
     "name": "stdout",
     "output_type": "stream",
     "text": [
      "pos1: 10.627692266158647 pos0: 10.016122421362738 time1: 0.36266231536865234 time0: 0.11950421333312988\n",
      "pos1: -25.76789738951179 pos0: -24.103275378071316 time1: 0.36266231536865234 time0: 0.11950421333312988\n",
      "pos1: 10.350573896700254 pos0: 10.627692266158647 time1: 0.6303849220275879 time0: 0.36266231536865234\n",
      "pos1: -25.754447096813205 pos0: -25.76789738951179 time1: 0.6303849220275879 time0: 0.36266231536865234\n",
      "pos1: 10.327661175718305 pos0: 10.350573896700254 time1: 0.8694930076599121 time0: 0.6303849220275879\n",
      "pos1: -32.97450414581529 pos0: -25.754447096813205 time1: 0.8694930076599121 time0: 0.6303849220275879\n",
      "pos1: 5.893190681136261 pos0: 10.327661175718305 time1: 1.1156182289123535 time0: 0.8694930076599121\n",
      "pos1: -32.4732519040205 pos0: -32.97450414581529 time1: 1.1156182289123535 time0: 0.8694930076599121\n",
      "pos1: 2.768541827768189 pos0: 5.893190681136261 time1: 1.3613011837005615 time0: 1.1156182289123535\n",
      "pos1: -22.71047168020198 pos0: -32.4732519040205 time1: 1.3613011837005615 time0: 1.1156182289123535\n",
      "pos1: -2.4001435957916613 pos0: 2.768541827768189 time1: 1.5907411575317383 time0: 1.3613011837005615\n",
      "pos1: 9.800000000000004 pos0: -22.71047168020198 time1: 1.5907411575317383 time0: 1.3613011837005615\n",
      "pos1: 3.2457686417538696 pos0: -2.4001435957916613 time1: 1.8344581127166748 time0: 1.5907411575317383\n",
      "pos1: 9.800000000000004 pos0: 9.800000000000004 time1: 1.8344581127166748 time0: 1.5907411575317383\n",
      "pos1: -8.303630931236526 pos0: 3.2457686417538696 time1: 2.089890241622925 time0: 1.8344581127166748\n",
      "pos1: 9.800000000000004 pos0: 9.800000000000004 time1: 2.089890241622925 time0: 1.8344581127166748\n",
      "pos1: -32.92317684085177 pos0: -8.303630931236526 time1: 2.327302932739258 time0: 2.089890241622925\n",
      "pos1: 9.800000000000004 pos0: 9.800000000000004 time1: 2.327302932739258 time0: 2.089890241622925\n",
      "pos1: -48.256204082719485 pos0: -32.92317684085177 time1: 2.5718531608581543 time0: 2.327302932739258\n",
      "pos1: 9.800000000000004 pos0: 9.800000000000004 time1: 2.5718531608581543 time0: 2.327302932739258\n",
      "pos1: -22.05749345324658 pos0: -48.256204082719485 time1: 2.813286304473877 time0: 2.5718531608581543\n",
      "pos1: 9.800000000000004 pos0: 9.800000000000004 time1: 2.813286304473877 time0: 2.5718531608581543\n",
      "pos1: -5.603167619489398 pos0: -22.05749345324658 time1: 3.056279182434082 time0: 2.813286304473877\n",
      "pos1: 9.800000000000004 pos0: 9.800000000000004 time1: 3.056279182434082 time0: 2.813286304473877\n",
      "pos1: -13.823608896044817 pos0: -5.603167619489398 time1: 3.2956371307373047 time0: 3.056279182434082\n",
      "pos1: 9.800000000000004 pos0: 9.800000000000004 time1: 3.2956371307373047 time0: 3.056279182434082\n",
      "pos1: -16.639019196220943 pos0: -13.823608896044817 time1: 3.55505633354187 time0: 3.2956371307373047\n",
      "pos1: 8.359045815997938 pos0: 9.800000000000004 time1: 3.55505633354187 time0: 3.2956371307373047\n",
      "pos1: -7.4356430711705315 pos0: -16.639019196220943 time1: 3.8206911087036133 time0: 3.55505633354187\n",
      "pos1: -22.964342010333965 pos0: 8.359045815997938 time1: 3.8206911087036133 time0: 3.55505633354187\n",
      "pos1: 3.1228507618504153 pos0: -7.4356430711705315 time1: 4.077203989028931 time0: 3.8206911087036133\n",
      "pos1: -16.382359174053846 pos0: -22.964342010333965 time1: 4.077203989028931 time0: 3.8206911087036133\n",
      "pos1: 9.136036961238787 pos0: 3.1228507618504153 time1: 4.3289899826049805 time0: 4.077203989028931\n",
      "pos1: -10.078090133886988 pos0: -16.382359174053846 time1: 4.3289899826049805 time0: 4.077203989028931\n",
      "pos1: 10.728518464956764 pos0: 9.136036961238787 time1: 4.584709167480469 time0: 4.3289899826049805\n",
      "pos1: -17.295125435001673 pos0: -10.078090133886988 time1: 4.584709167480469 time0: 4.3289899826049805\n",
      "pos1: 10.285174972072639 pos0: 10.728518464956764 time1: 4.847746133804321 time0: 4.584709167480469\n",
      "pos1: -32.26265251509015 pos0: -17.295125435001673 time1: 4.847746133804321 time0: 4.584709167480469\n",
      "Setting positions {1: 10.016122421362738, 3: -25.766021556935506}\n",
      "Setting positions {1: 10.589044210196857}\n",
      "Setting positions {1: -2.1856545711876896, 3: -25.755973624961108}\n",
      "Setting positions {3: -32.91237439648253}\n",
      "Setting positions {3: 9.800000000000004}\n",
      "Setting positions {1: 2.4475169151878253}\n",
      "Setting positions {1: -45.20189727642091}\n",
      "Setting positions {1: -7.104702938919582}\n",
      "Setting positions {1: -16.04150688075645}\n",
      "Setting positions {3: -20.92931842549406}\n",
      "Setting positions {1: 10.702746075649443}\n",
      "Setting positions {3: -10.803947228699325}\n",
      "Setting positions {3: -32.26265251509015}\n",
      "Setting positions {1: 10.285174972072639}\n"
     ]
    }
   ],
   "source": [
    "p.play()"
   ]
  },
  {
   "cell_type": "code",
   "execution_count": 5,
   "metadata": {},
   "outputs": [
    {
     "name": "stdout",
     "output_type": "stream",
     "text": [
      "Stopping PoseNet...\n"
     ]
    }
   ],
   "source": [
    "p.stop_posenet()"
   ]
  },
  {
   "cell_type": "code",
   "execution_count": null,
   "metadata": {
    "collapsed": true
   },
   "outputs": [],
   "source": [
    "m = LinearMove(shimi, shimi.torso, 1.0, 1.0, normalized_positions=True)\n",
    "m.start()"
   ]
  }
 ],
 "metadata": {
  "kernelspec": {
   "display_name": "Python (shimi)",
   "language": "python",
   "name": "shimi"
  },
  "language_info": {
   "codemirror_mode": {
    "name": "ipython",
    "version": 3
   },
   "file_extension": ".py",
   "mimetype": "text/x-python",
   "name": "python",
   "nbconvert_exporter": "python",
   "pygments_lexer": "ipython3",
   "version": "3.7.0"
  }
 },
 "nbformat": 4,
 "nbformat_minor": 2
}
