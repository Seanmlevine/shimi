{
 "cells": [
  {
   "cell_type": "markdown",
   "metadata": {},
   "source": [
    "# Recording a Gesture for Shimi\n",
    "\n",
    "First, run the cell below to instatiate the shimi object. It should move to its initial positions and then relax."
   ]
  },
  {
   "cell_type": "code",
   "execution_count": 1,
   "metadata": {},
   "outputs": [
    {
     "name": "stdout",
     "output_type": "stream",
     "text": [
      "Connecting on /dev/ttyACM1\n",
      "Found motors with the following IDs: [1, 2, 3, 4, 5]\n",
      "(OrderedDict([('model', 'MX-28'),\n",
      "              ('firmware', 30),\n",
      "              ('id', 1),\n",
      "              ('baudrate', 1),\n",
      "              ('return delay time', 0),\n",
      "              ('angle limit', (-99.03, 14.64)),\n",
      "              ('highest temperature limit', 80.0),\n",
      "              ('voltage limit', (6.0, 16.0)),\n",
      "              ('max torque', 100.0),\n",
      "              ('status return level', 'always'),\n",
      "              ('alarm LED', ('Overload Error', 'Overheating Error')),\n",
      "              ('alarm shutdown', ('Overload Error', 'Overheating Error')),\n",
      "              ('torque_enable', True),\n",
      "              ('LED', False),\n",
      "              ('pid gain', (0.0, 0.0, 4.0)),\n",
      "              ('goal position', 9.98),\n",
      "              ('moving speed', 0.684),\n",
      "              ('torque limit', 100.0),\n",
      "              ('present position', 10.77),\n",
      "              ('present speed', 0.0),\n",
      "              ('present load', 7.8),\n",
      "              ('present voltage', 8.4),\n",
      "              ('present temperature', 44.0),\n",
      "              ('moving', False)]),\n",
      " OrderedDict([('model', 'MX-28'),\n",
      "              ('firmware', 29),\n",
      "              ('id', 2),\n",
      "              ('baudrate', 1),\n",
      "              ('return delay time', 0),\n",
      "              ('angle limit', (-111.6, 68.44)),\n",
      "              ('highest temperature limit', 80.0),\n",
      "              ('voltage limit', (6.0, 16.0)),\n",
      "              ('max torque', 100.0),\n",
      "              ('status return level', 'always'),\n",
      "              ('alarm LED', ('Overload Error', 'Overheating Error')),\n",
      "              ('alarm shutdown', ('Overload Error', 'Overheating Error')),\n",
      "              ('torque_enable', True),\n",
      "              ('LED', False),\n",
      "              ('pid gain', (0.128, 0.0, 0.0)),\n",
      "              ('goal position', -21.58),\n",
      "              ('moving speed', 0.0),\n",
      "              ('torque limit', 100.0),\n",
      "              ('present position', -21.32),\n",
      "              ('present speed', 0.0),\n",
      "              ('present load', 2.3),\n",
      "              ('present voltage', 12.200000000000001),\n",
      "              ('present temperature', 44.0),\n",
      "              ('moving', False)]),\n",
      " OrderedDict([('model', 'MX-28'),\n",
      "              ('firmware', 30),\n",
      "              ('id', 3),\n",
      "              ('baudrate', 1),\n",
      "              ('return delay time', 0),\n",
      "              ('angle limit', (-50.42, 9.8)),\n",
      "              ('highest temperature limit', 80.0),\n",
      "              ('voltage limit', (6.0, 16.0)),\n",
      "              ('max torque', 100.0),\n",
      "              ('status return level', 'always'),\n",
      "              ('alarm LED', ('Overload Error', 'Overheating Error')),\n",
      "              ('alarm shutdown', ('Overload Error', 'Overheating Error')),\n",
      "              ('torque_enable', True),\n",
      "              ('LED', False),\n",
      "              ('pid gain', (0.0, 0.0, 4.0)),\n",
      "              ('goal position', 0.04),\n",
      "              ('moving speed', 1.368),\n",
      "              ('torque limit', 100.0),\n",
      "              ('present position', 0.84),\n",
      "              ('present speed', 0.0),\n",
      "              ('present load', 7.0),\n",
      "              ('present voltage', 8.3),\n",
      "              ('present temperature', 45.0),\n",
      "              ('moving', False)]),\n",
      " OrderedDict([('model', 'MX-28'),\n",
      "              ('firmware', 30),\n",
      "              ('id', 4),\n",
      "              ('baudrate', 1),\n",
      "              ('return delay time', 0),\n",
      "              ('angle limit', (-180.0, 180.0)),\n",
      "              ('highest temperature limit', 80.0),\n",
      "              ('voltage limit', (6.0, 16.0)),\n",
      "              ('max torque', 100.0),\n",
      "              ('status return level', 'always'),\n",
      "              ('alarm LED', ('Overload Error', 'Overheating Error')),\n",
      "              ('alarm shutdown', ('Overload Error', 'Overheating Error')),\n",
      "              ('torque_enable', True),\n",
      "              ('LED', False),\n",
      "              ('pid gain', (0.0, 0.0, 4.0)),\n",
      "              ('goal position', -11.82),\n",
      "              ('moving speed', 0.684),\n",
      "              ('torque limit', 100.0),\n",
      "              ('present position', -11.3),\n",
      "              ('present speed', 0.0),\n",
      "              ('present load', 4.7),\n",
      "              ('present voltage', 8.4),\n",
      "              ('present temperature', 44.0),\n",
      "              ('moving', False)]),\n",
      " OrderedDict([('model', 'MX-28'),\n",
      "              ('firmware', 30),\n",
      "              ('id', 5),\n",
      "              ('baudrate', 1),\n",
      "              ('return delay time', 0),\n",
      "              ('angle limit', (5.41, 21.14)),\n",
      "              ('highest temperature limit', 80.0),\n",
      "              ('voltage limit', (6.0, 16.0)),\n",
      "              ('max torque', 100.0),\n",
      "              ('status return level', 'always'),\n",
      "              ('alarm LED', ('Overload Error', 'Overheating Error')),\n",
      "              ('alarm shutdown', ('Overload Error', 'Overheating Error')),\n",
      "              ('torque_enable', True),\n",
      "              ('LED', False),\n",
      "              ('pid gain', (0.0, 0.0, 4.0)),\n",
      "              ('goal position', 5.41),\n",
      "              ('moving speed', 0.0),\n",
      "              ('torque limit', 100.0),\n",
      "              ('present position', 5.41),\n",
      "              ('present speed', 0.0),\n",
      "              ('present load', 0.0),\n",
      "              ('present voltage', 8.8),\n",
      "              ('present temperature', 42.0),\n",
      "              ('moving', False)]))\n"
     ]
    }
   ],
   "source": [
    "# Import some matplolib shortcuts for Jupyter notebook\n",
    "%matplotlib inline\n",
    "\n",
    "import numpy as np\n",
    "import matplotlib.pyplot as plt\n",
    "\n",
    "from shimi import *\n",
    "from motion.move import *\n",
    "from config.definitions import *\n",
    "from motion.recorder import *\n",
    "from motion.playback import *\n",
    "from audio.audio import *\n",
    "from audio.play_song_demo import *\n",
    "from posenet.posenet import *\n",
    "\n",
    "import time\n",
    "import datetime\n",
    "\n",
    "from copy import deepcopy\n",
    "\n",
    "import os\n",
    "\n",
    "import threading\n",
    "\n",
    "# Load Shimi\n",
    "shimi = Shimi()\n",
    "\n",
    "local_gestures = {}"
   ]
  },
  {
   "cell_type": "markdown",
   "metadata": {},
   "source": [
    "The cell below defines the recorder object. The first parameter is a reference to the motor controller, the second is a **list** of motor ids, referenced by a convenience property on `shimi`. The options are as follows:\n",
    "* `shimi.torso`\n",
    "* `shimi.neck_lr`\n",
    "* `shimi.neck_ud`\n",
    "* `shimi.phone`\n",
    "* `shimi.foot`\n",
    "* `shimi.all_motors`: this **returns a list**, so you don't need to wrap it in one in this call\n",
    "\n",
    "\n",
    "The final parameter is the duration for which you want to record."
   ]
  },
  {
   "cell_type": "code",
   "execution_count": null,
   "metadata": {},
   "outputs": [],
   "source": [
    "r = Recorder(shimi, shimi.all_motors, 5.0)"
   ]
  },
  {
   "cell_type": "markdown",
   "metadata": {},
   "source": [
    "This starts a recording. It will count down from 3 to let you know when the recording starts, then move Shimi as you want it to move. **The first thing this call does is relax the motors, so be sure it doesn't collapse on itself when you call this.**"
   ]
  },
  {
   "cell_type": "code",
   "execution_count": null,
   "metadata": {
    "scrolled": false
   },
   "outputs": [],
   "source": [
    "r.record()\n",
    "r.plot(plt.axes())"
   ]
  },
  {
   "cell_type": "markdown",
   "metadata": {},
   "source": [
    "Then, run this to play back the recorded gesture."
   ]
  },
  {
   "cell_type": "code",
   "execution_count": null,
   "metadata": {},
   "outputs": [],
   "source": [
    "r.play(plt.axes())"
   ]
  },
  {
   "cell_type": "code",
   "execution_count": null,
   "metadata": {},
   "outputs": [],
   "source": [
    "r.plot(plt.axes())"
   ]
  },
  {
   "cell_type": "code",
   "execution_count": null,
   "metadata": {},
   "outputs": [],
   "source": [
    "r.trim(0.4, end=\"front\")"
   ]
  },
  {
   "cell_type": "markdown",
   "metadata": {},
   "source": [
    "### Here are some helper functions."
   ]
  },
  {
   "cell_type": "code",
   "execution_count": null,
   "metadata": {},
   "outputs": [],
   "source": [
    "# Puts shimi in a neutral position with motors non-compliant\n",
    "shimi.initial_position()"
   ]
  },
  {
   "cell_type": "markdown",
   "metadata": {},
   "source": [
    "## **Make sure Shimi will not collapse before you run this!!!**"
   ]
  },
  {
   "cell_type": "code",
   "execution_count": 2,
   "metadata": {},
   "outputs": [],
   "source": [
    "# Makes the motors compliant\n",
    "shimi.disable_torque()"
   ]
  },
  {
   "cell_type": "markdown",
   "metadata": {},
   "source": [
    "### Here's a hard-coded demo of Shimi dancing to Hey Ya"
   ]
  },
  {
   "cell_type": "code",
   "execution_count": null,
   "metadata": {},
   "outputs": [],
   "source": [
    "play_outkast(shimi)"
   ]
  },
  {
   "cell_type": "code",
   "execution_count": null,
   "metadata": {},
   "outputs": [],
   "source": [
    "play_opera(shimi)"
   ]
  },
  {
   "cell_type": "code",
   "execution_count": null,
   "metadata": {},
   "outputs": [],
   "source": [
    "p = PoseNet(shimi)"
   ]
  },
  {
   "cell_type": "code",
   "execution_count": null,
   "metadata": {},
   "outputs": [],
   "source": [
    "p.record()"
   ]
  },
  {
   "cell_type": "code",
   "execution_count": null,
   "metadata": {},
   "outputs": [],
   "source": [
    "p.play(plt.axes(), None)"
   ]
  },
  {
   "cell_type": "code",
   "execution_count": null,
   "metadata": {},
   "outputs": [],
   "source": [
    "p.stop_posenet()"
   ]
  },
  {
   "cell_type": "code",
   "execution_count": null,
   "metadata": {},
   "outputs": [],
   "source": [
    "p.start_posenet()"
   ]
  },
  {
   "cell_type": "code",
   "execution_count": null,
   "metadata": {},
   "outputs": [],
   "source": [
    "r.save(\"opera\")"
   ]
  },
  {
   "cell_type": "code",
   "execution_count": null,
   "metadata": {},
   "outputs": [],
   "source": [
    "r = load_recorder(shimi, \"bow\")"
   ]
  },
  {
   "cell_type": "code",
   "execution_count": null,
   "metadata": {},
   "outputs": [],
   "source": [
    "r.append_recording(load_recorder(shimi, \"bow\"))"
   ]
  },
  {
   "cell_type": "code",
   "execution_count": null,
   "metadata": {},
   "outputs": [],
   "source": [
    "r.append_recording(r2)"
   ]
  },
  {
   "cell_type": "code",
   "execution_count": null,
   "metadata": {},
   "outputs": [],
   "source": [
    "PlaySongDemoOnce(shimi)"
   ]
  },
  {
   "cell_type": "code",
   "execution_count": null,
   "metadata": {},
   "outputs": [],
   "source": []
  },
  {
   "cell_type": "code",
   "execution_count": null,
   "metadata": {},
   "outputs": [],
   "source": []
  }
 ],
 "metadata": {
  "kernelspec": {
   "display_name": "Python 3",
   "language": "python",
   "name": "python3"
  },
  "language_info": {
   "codemirror_mode": {
    "name": "ipython",
    "version": 3
   },
   "file_extension": ".py",
   "mimetype": "text/x-python",
   "name": "python",
   "nbconvert_exporter": "python",
   "pygments_lexer": "ipython3",
   "version": "3.6.6"
  }
 },
 "nbformat": 4,
 "nbformat_minor": 2
}
