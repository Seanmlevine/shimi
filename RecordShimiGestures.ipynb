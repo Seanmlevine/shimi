{
 "cells": [
  {
   "cell_type": "markdown",
   "metadata": {},
   "source": [
    "# Recording a Gesture for Shimi\n",
    "\n",
    "First, run the cell below to instatiate the shimi object. It should move to its initial positions and then relax.\n",
    "\n",
    "**There's currently an issue where every other time the pypot motor library is run it crashes. Re-run the cell in this case.**"
   ]
  },
  {
   "cell_type": "code",
   "execution_count": 1,
   "metadata": {},
   "outputs": [
    {
     "name": "stdout",
     "output_type": "stream",
     "text": [
      "Connecting on /dev/tty.usbserial-AL03EM2N\n",
      "Found motors with the following IDs: [1, 2, 3, 4, 5]\n",
      "(OrderedDict([('model', 'MX-28'),\n",
      "              ('firmware', 30),\n",
      "              ('id', 1),\n",
      "              ('baudrate', 1),\n",
      "              ('return delay time', 0),\n",
      "              ('angle limit', (-99.03, 14.64)),\n",
      "              ('highest temperature limit', 80.0),\n",
      "              ('voltage limit', (6.0, 16.0)),\n",
      "              ('max torque', 100.0),\n",
      "              ('status return level', 'always'),\n",
      "              ('alarm LED', ('Overload Error', 'Overheating Error')),\n",
      "              ('alarm shutdown', ('Overload Error', 'Overheating Error')),\n",
      "              ('torque_enable', True),\n",
      "              ('LED', False),\n",
      "              ('pid gain', (0.0, 0.0, 4.0)),\n",
      "              ('goal position', 8.92),\n",
      "              ('moving speed', 73.87200000000001),\n",
      "              ('torque limit', 100.0),\n",
      "              ('present position', 9.54),\n",
      "              ('present speed', 0.0),\n",
      "              ('present load', 6.3),\n",
      "              ('present voltage', 8.200000000000001),\n",
      "              ('present temperature', 45.0),\n",
      "              ('moving', False)]),\n",
      " OrderedDict([('model', 'MX-28'),\n",
      "              ('firmware', 29),\n",
      "              ('id', 2),\n",
      "              ('baudrate', 1),\n",
      "              ('return delay time', 0),\n",
      "              ('angle limit', (-111.6, 68.44)),\n",
      "              ('highest temperature limit', 80.0),\n",
      "              ('voltage limit', (6.0, 16.0)),\n",
      "              ('max torque', 100.0),\n",
      "              ('status return level', 'always'),\n",
      "              ('alarm LED', ('Overload Error', 'Overheating Error')),\n",
      "              ('alarm shutdown', ('Overload Error', 'Overheating Error')),\n",
      "              ('torque_enable', True),\n",
      "              ('LED', False),\n",
      "              ('pid gain', (0.128, 0.0, 0.0)),\n",
      "              ('goal position', -21.58),\n",
      "              ('moving speed', 138.168),\n",
      "              ('torque limit', 100.0),\n",
      "              ('present position', -21.93),\n",
      "              ('present speed', 0.0),\n",
      "              ('present load', -2.3),\n",
      "              ('present voltage', 12.200000000000001),\n",
      "              ('present temperature', 44.0),\n",
      "              ('moving', False)]),\n",
      " OrderedDict([('model', 'MX-28'),\n",
      "              ('firmware', 30),\n",
      "              ('id', 3),\n",
      "              ('baudrate', 1),\n",
      "              ('return delay time', 0),\n",
      "              ('angle limit', (-50.42, 9.8)),\n",
      "              ('highest temperature limit', 80.0),\n",
      "              ('voltage limit', (6.0, 16.0)),\n",
      "              ('max torque', 100.0),\n",
      "              ('status return level', 'always'),\n",
      "              ('alarm LED', ('Overload Error', 'Overheating Error')),\n",
      "              ('alarm shutdown', ('Overload Error', 'Overheating Error')),\n",
      "              ('torque_enable', True),\n",
      "              ('LED', False),\n",
      "              ('pid gain', (0.0, 0.0, 4.0)),\n",
      "              ('goal position', 3.74),\n",
      "              ('moving speed', 65.664),\n",
      "              ('torque limit', 100.0),\n",
      "              ('present position', 4.44),\n",
      "              ('present speed', 0.0),\n",
      "              ('present load', 6.3),\n",
      "              ('present voltage', 8.5),\n",
      "              ('present temperature', 43.0),\n",
      "              ('moving', False)]),\n",
      " OrderedDict([('model', 'MX-28'),\n",
      "              ('firmware', 30),\n",
      "              ('id', 4),\n",
      "              ('baudrate', 1),\n",
      "              ('return delay time', 0),\n",
      "              ('angle limit', (-180.0, 180.0)),\n",
      "              ('highest temperature limit', 80.0),\n",
      "              ('voltage limit', (6.0, 16.0)),\n",
      "              ('max torque', 100.0),\n",
      "              ('status return level', 'always'),\n",
      "              ('alarm LED', ('Overload Error', 'Overheating Error')),\n",
      "              ('alarm shutdown', ('Overload Error', 'Overheating Error')),\n",
      "              ('torque_enable', True),\n",
      "              ('LED', False),\n",
      "              ('pid gain', (0.0, 0.0, 4.0)),\n",
      "              ('goal position', -11.82),\n",
      "              ('moving speed', 0.684),\n",
      "              ('torque limit', 100.0),\n",
      "              ('present position', -11.3),\n",
      "              ('present speed', 0.0),\n",
      "              ('present load', 4.7),\n",
      "              ('present voltage', 9.1),\n",
      "              ('present temperature', 41.0),\n",
      "              ('moving', False)]),\n",
      " OrderedDict([('model', 'MX-28'),\n",
      "              ('firmware', 30),\n",
      "              ('id', 5),\n",
      "              ('baudrate', 1),\n",
      "              ('return delay time', 0),\n",
      "              ('angle limit', (5.41, 21.14)),\n",
      "              ('highest temperature limit', 80.0),\n",
      "              ('voltage limit', (6.0, 16.0)),\n",
      "              ('max torque', 100.0),\n",
      "              ('status return level', 'always'),\n",
      "              ('alarm LED', ('Overload Error', 'Overheating Error')),\n",
      "              ('alarm shutdown', ('Overload Error', 'Overheating Error')),\n",
      "              ('torque_enable', True),\n",
      "              ('LED', False),\n",
      "              ('pid gain', (0.0, 0.0, 4.0)),\n",
      "              ('goal position', 21.14),\n",
      "              ('moving speed', 15.048),\n",
      "              ('torque limit', 100.0),\n",
      "              ('present position', 20.26),\n",
      "              ('present speed', 0.0),\n",
      "              ('present load', -7.8),\n",
      "              ('present voltage', 9.4),\n",
      "              ('present temperature', 39.0),\n",
      "              ('moving', False)]))\n",
      "Setting motors to starting positions:\n",
      "{1: 10.0, 2: -21.6, 3: 0.0, 4: -11.85, 5: 5.41}\n"
     ]
    }
   ],
   "source": [
    "# Import some matplolib shortcuts for Jupyter notebook\n",
    "%matplotlib inline\n",
    "\n",
    "import numpy as np\n",
    "import matplotlib.pyplot as plt\n",
    "\n",
    "from shimi import *\n",
    "from motion.move import *\n",
    "from motion.recorder import *\n",
    "from audio.audio import *\n",
    "import time\n",
    "import datetime\n",
    "\n",
    "from copy import deepcopy\n",
    "\n",
    "import os\n",
    "\n",
    "import threading\n",
    "\n",
    "# Load Shimi model. Contains motor definitions and angle limits.\n",
    "# shimi = Shimi('config/shimi_robot_model.json')\n",
    "\n",
    "# Load Shimi\n",
    "shimi = Shimi()\n",
    "\n",
    "local_gestures = {}"
   ]
  },
  {
   "cell_type": "markdown",
   "metadata": {},
   "source": [
    "Here are some helper functions."
   ]
  },
  {
   "cell_type": "code",
   "execution_count": null,
   "metadata": {
    "collapsed": true
   },
   "outputs": [],
   "source": [
    "# Puts shimi in a neutral position with motors non-compliant\n",
    "shimi.initial_position()"
   ]
  },
  {
   "cell_type": "markdown",
   "metadata": {},
   "source": [
    "## **Make sure Shimi will not collapse before you run this!!!**"
   ]
  },
  {
   "cell_type": "code",
   "execution_count": null,
   "metadata": {
    "collapsed": true
   },
   "outputs": [],
   "source": [
    "# Makes the motors compliant\n",
    "shimi.disable_torque()"
   ]
  },
  {
   "cell_type": "code",
   "execution_count": null,
   "metadata": {
    "collapsed": true
   },
   "outputs": [],
   "source": [
    "m = LinearAccelMove(shimi, shimi.neck_lr, -100, 1.0)\n",
    "m.add_move(60, 1.5)\n",
    "m.add_move(-10, 0.7)\n",
    "m1 = LinearAccelMove(shimi, shimi.neck_ud, -50, 1.0)\n",
    "m1.add_move(0, 1.5)\n",
    "m1.add_move(10, 0.7)\n",
    "m.start()\n",
    "m1.start()\n",
    "m.join()\n",
    "m1.join()\n",
    "print(\"done\")"
   ]
  },
  {
   "cell_type": "code",
   "execution_count": null,
   "metadata": {
    "collapsed": true
   },
   "outputs": [],
   "source": [
    "m = LinearMove(shimi, shimi.neck_lr, -100, 1.0)\n",
    "m.add_move(60, 1.5)\n",
    "m.add_move(-10, 0.7)\n",
    "m1 = LinearMove(shimi, shimi.neck_ud, -50, 1.0)\n",
    "m1.add_move(0, 1.5)\n",
    "m1.add_move(10, 0.7)\n",
    "m.start()\n",
    "m1.start()\n",
    "m.join()\n",
    "m1.join()\n",
    "print(\"done\")"
   ]
  },
  {
   "cell_type": "code",
   "execution_count": null,
   "metadata": {
    "collapsed": true
   },
   "outputs": [],
   "source": [
    "r = Recorder(shimi, shimi.all_motors, 10.0)"
   ]
  },
  {
   "cell_type": "code",
   "execution_count": null,
   "metadata": {
    "collapsed": true
   },
   "outputs": [],
   "source": [
    "r.record()\n",
    "r.plot(plt.axes())"
   ]
  },
  {
   "cell_type": "code",
   "execution_count": null,
   "metadata": {
    "collapsed": true
   },
   "outputs": [],
   "source": [
    "r.play()"
   ]
  },
  {
   "cell_type": "code",
   "execution_count": null,
   "metadata": {
    "collapsed": true
   },
   "outputs": [],
   "source": [
    "print(r.motors)\n",
    "print(r.positions[-1])"
   ]
  },
  {
   "cell_type": "code",
   "execution_count": null,
   "metadata": {
    "collapsed": true
   },
   "outputs": [],
   "source": [
    "m = LinearMove(shimi, shimi.neck_lr, -90, 0.2)\n",
    "m.start()"
   ]
  },
  {
   "cell_type": "markdown",
   "metadata": {},
   "source": [
    "## Note to self\n",
    "* Chaining multiple move changes in one Move thread\n",
    "* Record position direction changes, record velocities"
   ]
  },
  {
   "cell_type": "code",
   "execution_count": 2,
   "metadata": {},
   "outputs": [
    {
     "name": "stdout",
     "output_type": "stream",
     "text": [
      "Setting motors to starting positions:\n",
      "{1: 10.0, 2: -21.6, 3: 0.0, 4: -11.85, 5: 5.41}\n"
     ]
    }
   ],
   "source": [
    "play_outkast(shimi)"
   ]
  }
 ],
 "metadata": {
  "kernelspec": {
   "display_name": "Python (shimi)",
   "language": "python",
   "name": "shimi"
  },
  "language_info": {
   "codemirror_mode": {
    "name": "ipython",
    "version": 3
   },
   "file_extension": ".py",
   "mimetype": "text/x-python",
   "name": "python",
   "nbconvert_exporter": "python",
   "pygments_lexer": "ipython3",
   "version": "3.7.0"
  }
 },
 "nbformat": 4,
 "nbformat_minor": 2
}
