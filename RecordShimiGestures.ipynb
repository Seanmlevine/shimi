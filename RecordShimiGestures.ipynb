{
 "cells": [
  {
   "cell_type": "markdown",
   "metadata": {},
   "source": [
    "# Recording a Gesture for Shimi\n",
    "\n",
    "First, run the cell below to instatiate the shimi object. It should move to its initial positions and then relax.\n",
    "\n",
    "**There's currently an issue where every other time the pypot motor library is run it crashes. Re-run the cell in this case.**"
   ]
  },
  {
   "cell_type": "code",
   "execution_count": 1,
   "metadata": {},
   "outputs": [
    {
     "name": "stdout",
     "output_type": "stream",
     "text": [
      "Connecting on /dev/tty.usbserial-AL03EM2N\n",
      "Found motors with the following IDs: [1, 2, 3, 4, 5]\n",
      "(OrderedDict([('model', 'MX-28'),\n",
      "              ('firmware', 30),\n",
      "              ('id', 1),\n",
      "              ('baudrate', 1),\n",
      "              ('return delay time', 0),\n",
      "              ('angle limit', (-99.03, 14.64)),\n",
      "              ('highest temperature limit', 80.0),\n",
      "              ('voltage limit', (6.0, 16.0)),\n",
      "              ('max torque', 100.0),\n",
      "              ('status return level', 'always'),\n",
      "              ('alarm LED', ('Overload Error', 'Overheating Error')),\n",
      "              ('alarm shutdown', ('Overload Error', 'Overheating Error')),\n",
      "              ('torque_enable', True),\n",
      "              ('LED', False),\n",
      "              ('pid gain', (0.0, 0.0, 4.0)),\n",
      "              ('goal position', -16.13),\n",
      "              ('moving speed', 0.0),\n",
      "              ('torque limit', 100.0),\n",
      "              ('present position', -19.03),\n",
      "              ('present speed', 0.0),\n",
      "              ('present load', -24.2),\n",
      "              ('present voltage', 8.0),\n",
      "              ('present temperature', 47.0),\n",
      "              ('moving', False)]),\n",
      " OrderedDict([('model', 'MX-28'),\n",
      "              ('firmware', 29),\n",
      "              ('id', 2),\n",
      "              ('baudrate', 1),\n",
      "              ('return delay time', 0),\n",
      "              ('angle limit', (-111.6, 68.44)),\n",
      "              ('highest temperature limit', 80.0),\n",
      "              ('voltage limit', (6.0, 16.0)),\n",
      "              ('max torque', 100.0),\n",
      "              ('status return level', 'always'),\n",
      "              ('alarm LED', ('Overload Error', 'Overheating Error')),\n",
      "              ('alarm shutdown', ('Overload Error', 'Overheating Error')),\n",
      "              ('torque_enable', True),\n",
      "              ('LED', False),\n",
      "              ('pid gain', (0.128, 0.0, 0.0)),\n",
      "              ('goal position', 32.13),\n",
      "              ('moving speed', 0.0),\n",
      "              ('torque limit', 100.0),\n",
      "              ('present position', 31.43),\n",
      "              ('present speed', 0.0),\n",
      "              ('present load', -5.5),\n",
      "              ('present voltage', 12.200000000000001),\n",
      "              ('present temperature', 46.0),\n",
      "              ('moving', False)]),\n",
      " OrderedDict([('model', 'MX-28'),\n",
      "              ('firmware', 30),\n",
      "              ('id', 3),\n",
      "              ('baudrate', 1),\n",
      "              ('return delay time', 0),\n",
      "              ('angle limit', (-50.42, 9.8)),\n",
      "              ('highest temperature limit', 80.0),\n",
      "              ('voltage limit', (6.0, 16.0)),\n",
      "              ('max torque', 100.0),\n",
      "              ('status return level', 'always'),\n",
      "              ('alarm LED', ('Overload Error', 'Overheating Error')),\n",
      "              ('alarm shutdown', ('Overload Error', 'Overheating Error')),\n",
      "              ('torque_enable', True),\n",
      "              ('LED', False),\n",
      "              ('pid gain', (0.0, 0.0, 4.0)),\n",
      "              ('goal position', -50.42),\n",
      "              ('moving speed', 0.0),\n",
      "              ('torque limit', 100.0),\n",
      "              ('present position', -49.63),\n",
      "              ('present speed', 0.0),\n",
      "              ('present load', 7.8),\n",
      "              ('present voltage', 8.4),\n",
      "              ('present temperature', 44.0),\n",
      "              ('moving', False)]),\n",
      " OrderedDict([('model', 'MX-28'),\n",
      "              ('firmware', 30),\n",
      "              ('id', 4),\n",
      "              ('baudrate', 1),\n",
      "              ('return delay time', 0),\n",
      "              ('angle limit', (-180.0, 180.0)),\n",
      "              ('highest temperature limit', 80.0),\n",
      "              ('voltage limit', (6.0, 16.0)),\n",
      "              ('max torque', 100.0),\n",
      "              ('status return level', 'always'),\n",
      "              ('alarm LED', ('Overload Error', 'Overheating Error')),\n",
      "              ('alarm shutdown', ('Overload Error', 'Overheating Error')),\n",
      "              ('torque_enable', True),\n",
      "              ('LED', False),\n",
      "              ('pid gain', (0.0, 0.0, 4.0)),\n",
      "              ('goal position', -12.35),\n",
      "              ('moving speed', 0.0),\n",
      "              ('torque limit', 100.0),\n",
      "              ('present position', -12.26),\n",
      "              ('present speed', 0.0),\n",
      "              ('present load', 0.8),\n",
      "              ('present voltage', 8.6),\n",
      "              ('present temperature', 43.0),\n",
      "              ('moving', False)]),\n",
      " OrderedDict([('model', 'MX-28'),\n",
      "              ('firmware', 30),\n",
      "              ('id', 5),\n",
      "              ('baudrate', 1),\n",
      "              ('return delay time', 0),\n",
      "              ('angle limit', (5.41, 21.14)),\n",
      "              ('highest temperature limit', 80.0),\n",
      "              ('voltage limit', (6.0, 16.0)),\n",
      "              ('max torque', 100.0),\n",
      "              ('status return level', 'always'),\n",
      "              ('alarm LED', ('Overload Error', 'Overheating Error')),\n",
      "              ('alarm shutdown', ('Overload Error', 'Overheating Error')),\n",
      "              ('torque_enable', True),\n",
      "              ('LED', False),\n",
      "              ('pid gain', (0.0, 0.0, 4.0)),\n",
      "              ('goal position', 5.41),\n",
      "              ('moving speed', 0.0),\n",
      "              ('torque limit', 100.0),\n",
      "              ('present position', 5.05),\n",
      "              ('present speed', 0.0),\n",
      "              ('present load', -3.1),\n",
      "              ('present voltage', 9.1),\n",
      "              ('present temperature', 41.0),\n",
      "              ('moving', False)]))\n",
      "Setting motors to starting positions:\n",
      "{1: 10.0, 2: -21.6, 3: 0.0, 4: -11.85, 5: 5.41}\n"
     ]
    }
   ],
   "source": [
    "# Import some matplolib shortcuts for Jupyter notebook\n",
    "%matplotlib inline\n",
    "\n",
    "import numpy as np\n",
    "import matplotlib.pyplot as plt\n",
    "\n",
    "from shimi import *\n",
    "from motion.move import *\n",
    "from motion.recorder import *\n",
    "from audio.audio import *\n",
    "import time\n",
    "import datetime\n",
    "\n",
    "from copy import deepcopy\n",
    "\n",
    "import os\n",
    "\n",
    "import threading\n",
    "\n",
    "# Load Shimi model. Contains motor definitions and angle limits.\n",
    "# shimi = Shimi('config/shimi_robot_model.json')\n",
    "\n",
    "# Load Shimi\n",
    "shimi = Shimi()\n",
    "\n",
    "local_gestures = {}"
   ]
  },
  {
   "cell_type": "markdown",
   "metadata": {},
   "source": [
    "Here are some helper functions."
   ]
  },
  {
   "cell_type": "code",
   "execution_count": 13,
   "metadata": {},
   "outputs": [
    {
     "name": "stdout",
     "output_type": "stream",
     "text": [
      "Setting motors to starting positions:\n",
      "{1: 10.0, 2: -21.6, 3: 0.0, 4: -11.85, 5: 5.41}\n"
     ]
    }
   ],
   "source": [
    "# Puts shimi in a neutral position with motors non-compliant\n",
    "shimi.initial_position()"
   ]
  },
  {
   "cell_type": "markdown",
   "metadata": {},
   "source": [
    "## **Make sure Shimi will not collapse before you run this!!!**"
   ]
  },
  {
   "cell_type": "code",
   "execution_count": 5,
   "metadata": {},
   "outputs": [],
   "source": [
    "# Makes the motors compliant\n",
    "shimi.disable_torque()"
   ]
  },
  {
   "cell_type": "code",
   "execution_count": null,
   "metadata": {},
   "outputs": [],
   "source": [
    "m = LinearAccelMove(shimi, shimi.neck_lr, -100, 1.0)\n",
    "m.add_move(60, 1.5)\n",
    "m.add_move(-10, 0.7)\n",
    "m1 = LinearAccelMove(shimi, shimi.neck_ud, -50, 1.0)\n",
    "m1.add_move(0, 1.5)\n",
    "m1.add_move(10, 0.7)\n",
    "m.start()\n",
    "m1.start()\n",
    "m.join()\n",
    "m1.join()\n",
    "print(\"done\")"
   ]
  },
  {
   "cell_type": "code",
   "execution_count": null,
   "metadata": {},
   "outputs": [],
   "source": [
    "m = LinearMove(shimi, shimi.neck_lr, -100, 1.0)\n",
    "m.add_move(60, 1.5)\n",
    "m.add_move(-10, 0.7)\n",
    "m1 = LinearMove(shimi, shimi.neck_ud, -50, 1.0)\n",
    "m1.add_move(0, 1.5)\n",
    "m1.add_move(10, 0.7)\n",
    "m.start()\n",
    "m1.start()\n",
    "m.join()\n",
    "m1.join()\n",
    "print(\"done\")"
   ]
  },
  {
   "cell_type": "code",
   "execution_count": 2,
   "metadata": {},
   "outputs": [],
   "source": [
    "r = Recorder(shimi, shimi.all_motors, 5.0)"
   ]
  },
  {
   "cell_type": "code",
   "execution_count": 10,
   "metadata": {},
   "outputs": [
    {
     "name": "stdout",
     "output_type": "stream",
     "text": [
      "3.0...\n",
      "2.0...\n",
      "1.0...\n",
      "Recording...\n",
      "Done. Recorded 33 positions and 33 velocities.\n"
     ]
    },
    {
     "data": {
      "image/png": "[encoded data removed]",
      "text/plain": [
       "<Figure size 432x288 with 1 Axes>"
      ]
     },
     "metadata": {
      "needs_background": "light"
     },
     "output_type": "display_data"
    }
   ],
   "source": [
    "r.record()\n",
    "r.plot(plt.axes())"
   ]
  },
  {
   "cell_type": "code",
   "execution_count": 12,
   "metadata": {},
   "outputs": [
    {
     "name": "stdout",
     "output_type": "stream",
     "text": [
      "[[[0.4, 1.0, 1.5999999999999999, 2.6, 3.600000000000001, 4.200000000000001], [3.0335377231783096, -13.040477094168583, 8.857951901350788, -32.44929725813809, 7.096969080443946, -20.2013396486578]], [[1.2, 1.9999999999999998, 2.6, 3.600000000000001, 4.000000000000001], [-31.23349311863022, -16.26932566051588, -49.63148557220753, -2.6472344327484554, -38.81677559159887]], [[0.4, 1.4, 2.4, 3.2000000000000006, 4.400000000000001, 4.800000000000002], [-28.922855124370983, -60.111675613068854, -7.74946260656575, -54.76913534686286, -29.49, -30.378652250069386]], [[1.2, 1.7999999999999998, 2.1999999999999997, 2.4, 2.8000000000000003, 3.0000000000000004, 3.2000000000000006, 3.800000000000001, 4.000000000000001, 4.400000000000001, 4.600000000000001], [-12.26, -12.35, -12.30641177394152, -12.35, -12.284226160448323, -12.303112932052635, -12.26, -12.35, -12.27999922565214, -12.35, -12.302138929399028]], [[], []]]\n",
      "No positions for motor 5\n",
      "Setting positions {1: 3.0335377231783096, 3: -31.23349311863022, 2: -28.922855124370983, 4: -12.26}\n",
      "Setting positions {1: -13.040477094168583, 2: -60.111675613068854}\n",
      "Setting positions {3: -16.26932566051588, 4: -12.35}\n",
      "Setting positions {1: 8.857951901350788}\n",
      "Setting positions {2: -7.74946260656575}\n",
      "Setting positions {1: -32.44929725813809, 4: -12.30641177394152}\n",
      "Setting positions {3: -49.63148557220753}\n",
      "Setting positions {2: -54.76913534686286}\n",
      "[1.0, 1.2, 2.8000000000000003, 0.6000000000000001, 5.000000000000004]\n"
     ]
    }
   ],
   "source": [
    "r.play()"
   ]
  },
  {
   "cell_type": "code",
   "execution_count": null,
   "metadata": {},
   "outputs": [],
   "source": [
    "print(r.motors)\n",
    "print(r.positions[-1])"
   ]
  },
  {
   "cell_type": "code",
   "execution_count": null,
   "metadata": {
    "collapsed": true
   },
   "outputs": [],
   "source": [
    "m = LinearMove(shimi, shimi.neck_lr, -90, 0.2)\n",
    "m.start()"
   ]
  },
  {
   "cell_type": "markdown",
   "metadata": {},
   "source": [
    "## Note to self\n",
    "* Chaining multiple move changes in one Move thread\n",
    "* Record position direction changes, record velocities"
   ]
  },
  {
   "cell_type": "code",
   "execution_count": 8,
   "metadata": {},
   "outputs": [
    {
     "name": "stdout",
     "output_type": "stream",
     "text": [
      "Setting motors to starting positions:\n",
      "{1: 10.0, 2: -21.6, 3: 0.0, 4: -11.85, 5: 5.41}\n"
     ]
    }
   ],
   "source": [
    "play_outkast(shimi)"
   ]
  },
  {
   "cell_type": "code",
   "execution_count": null,
   "metadata": {
    "collapsed": true
   },
   "outputs": [],
   "source": []
  }
 ],
 "metadata": {
  "kernelspec": {
   "display_name": "Python (shimi)",
   "language": "python",
   "name": "shimi"
  },
  "language_info": {
   "codemirror_mode": {
    "name": "ipython",
    "version": 3
   },
   "file_extension": ".py",
   "mimetype": "text/x-python",
   "name": "python",
   "nbconvert_exporter": "python",
   "pygments_lexer": "ipython3",
   "version": "3.7.0"
  }
 },
 "nbformat": 4,
 "nbformat_minor": 2
}
