{
 "cells": [
  {
   "cell_type": "markdown",
   "metadata": {},
   "source": [
    "# Recording a Gesture for Shimi\n",
    "\n",
    "First, run the cell below to instatiate the shimi object. It should move to its initial positions and then relax.\n",
    "\n",
    "**There's currently an issue where every other time the pypot motor library is run it crashes. Re-run the cell in this case.**"
   ]
  },
  {
   "cell_type": "code",
   "execution_count": 1,
   "metadata": {},
   "outputs": [
    {
     "name": "stdout",
     "output_type": "stream",
     "text": [
      "Connecting on /dev/tty.usbserial-AL03EM2N\n",
      "Found motors with the following IDs: [1, 2, 3, 4, 5]\n",
      "(OrderedDict([('model', 'MX-28'),\n",
      "              ('firmware', 30),\n",
      "              ('id', 1),\n",
      "              ('baudrate', 1),\n",
      "              ('return delay time', 0),\n",
      "              ('angle limit', (-99.03, 14.64)),\n",
      "              ('highest temperature limit', 80.0),\n",
      "              ('voltage limit', (6.0, 16.0)),\n",
      "              ('max torque', 100.0),\n",
      "              ('status return level', 'always'),\n",
      "              ('alarm LED', ('Overload Error', 'Overheating Error')),\n",
      "              ('alarm shutdown', ('Overload Error', 'Overheating Error')),\n",
      "              ('torque_enable', True),\n",
      "              ('LED', False),\n",
      "              ('pid gain', (0.0, 0.0, 4.0)),\n",
      "              ('goal position', 9.98),\n",
      "              ('moving speed', 6.156000000000001),\n",
      "              ('torque limit', 100.0),\n",
      "              ('present position', 10.86),\n",
      "              ('present speed', 0.0),\n",
      "              ('present load', 8.6),\n",
      "              ('present voltage', 8.6),\n",
      "              ('present temperature', 43.0),\n",
      "              ('moving', False)]),\n",
      " OrderedDict([('model', 'MX-28'),\n",
      "              ('firmware', 29),\n",
      "              ('id', 2),\n",
      "              ('baudrate', 1),\n",
      "              ('return delay time', 0),\n",
      "              ('angle limit', (-111.6, 68.44)),\n",
      "              ('highest temperature limit', 80.0),\n",
      "              ('voltage limit', (6.0, 16.0)),\n",
      "              ('max torque', 100.0),\n",
      "              ('status return level', 'always'),\n",
      "              ('alarm LED', ('Overload Error', 'Overheating Error')),\n",
      "              ('alarm shutdown', ('Overload Error', 'Overheating Error')),\n",
      "              ('torque_enable', True),\n",
      "              ('LED', False),\n",
      "              ('pid gain', (0.128, 0.0, 0.0)),\n",
      "              ('goal position', 60.0),\n",
      "              ('moving speed', 27.360000000000003),\n",
      "              ('torque limit', 100.0),\n",
      "              ('present position', 59.38),\n",
      "              ('present speed', 0.0),\n",
      "              ('present load', -5.5),\n",
      "              ('present voltage', 12.200000000000001),\n",
      "              ('present temperature', 45.0),\n",
      "              ('moving', False)]),\n",
      " OrderedDict([('model', 'MX-28'),\n",
      "              ('firmware', 30),\n",
      "              ('id', 3),\n",
      "              ('baudrate', 1),\n",
      "              ('return delay time', 0),\n",
      "              ('angle limit', (-50.42, 9.8)),\n",
      "              ('highest temperature limit', 80.0),\n",
      "              ('voltage limit', (6.0, 16.0)),\n",
      "              ('max torque', 100.0),\n",
      "              ('status return level', 'always'),\n",
      "              ('alarm LED', ('Overload Error', 'Overheating Error')),\n",
      "              ('alarm shutdown', ('Overload Error', 'Overheating Error')),\n",
      "              ('torque_enable', True),\n",
      "              ('LED', False),\n",
      "              ('pid gain', (0.0, 0.0, 4.0)),\n",
      "              ('goal position', 0.04),\n",
      "              ('moving speed', 6.156000000000001),\n",
      "              ('torque limit', 100.0),\n",
      "              ('present position', 0.84),\n",
      "              ('present speed', 0.0),\n",
      "              ('present load', 7.0),\n",
      "              ('present voltage', 8.700000000000001),\n",
      "              ('present temperature', 43.0),\n",
      "              ('moving', False)]),\n",
      " OrderedDict([('model', 'MX-28'),\n",
      "              ('firmware', 30),\n",
      "              ('id', 4),\n",
      "              ('baudrate', 1),\n",
      "              ('return delay time', 0),\n",
      "              ('angle limit', (-180.0, 180.0)),\n",
      "              ('highest temperature limit', 80.0),\n",
      "              ('voltage limit', (6.0, 16.0)),\n",
      "              ('max torque', 100.0),\n",
      "              ('status return level', 'always'),\n",
      "              ('alarm LED', ('Overload Error', 'Overheating Error')),\n",
      "              ('alarm shutdown', ('Overload Error', 'Overheating Error')),\n",
      "              ('torque_enable', True),\n",
      "              ('LED', False),\n",
      "              ('pid gain', (0.0, 0.0, 4.0)),\n",
      "              ('goal position', -11.82),\n",
      "              ('moving speed', 4.104),\n",
      "              ('torque limit', 100.0),\n",
      "              ('present position', -12.35),\n",
      "              ('present speed', 0.0),\n",
      "              ('present load', -4.7),\n",
      "              ('present voltage', 8.8),\n",
      "              ('present temperature', 42.0),\n",
      "              ('moving', False)]),\n",
      " OrderedDict([('model', 'MX-28'),\n",
      "              ('firmware', 30),\n",
      "              ('id', 5),\n",
      "              ('baudrate', 1),\n",
      "              ('return delay time', 0),\n",
      "              ('angle limit', (5.41, 21.14)),\n",
      "              ('highest temperature limit', 80.0),\n",
      "              ('voltage limit', (6.0, 16.0)),\n",
      "              ('max torque', 100.0),\n",
      "              ('status return level', 'always'),\n",
      "              ('alarm LED', ('Overload Error', 'Overheating Error')),\n",
      "              ('alarm shutdown', ('Overload Error', 'Overheating Error')),\n",
      "              ('torque_enable', True),\n",
      "              ('LED', False),\n",
      "              ('pid gain', (0.0, 0.0, 4.0)),\n",
      "              ('goal position', 5.41),\n",
      "              ('moving speed', 4.104),\n",
      "              ('torque limit', 100.0),\n",
      "              ('present position', 4.97),\n",
      "              ('present speed', 0.0),\n",
      "              ('present load', -3.9),\n",
      "              ('present voltage', 9.3),\n",
      "              ('present temperature', 40.0),\n",
      "              ('moving', False)]))\n",
      "Setting motors to starting positions:\n",
      "{1: 10.0, 2: -21.6, 3: 0.0, 4: -11.85, 5: 5.41}\n",
      "Done moving. orig goal pos: 10.0 | pres pos: (10.86,)\n",
      "Done moving. orig goal pos: -11.85 | pres pos: (-12.35,)\n",
      "Done moving. orig goal pos: 0.0 | pres pos: (0.84,)\n",
      "Done moving. orig goal pos: -21.6 | pres pos: (-21.85,)\n",
      "Done moving. orig goal pos: 5.41 | pres pos: (5.05,)\n"
     ]
    }
   ],
   "source": [
    "# Import some matplolib shortcuts for Jupyter notebook\n",
    "%matplotlib inline\n",
    "\n",
    "import numpy as np\n",
    "import matplotlib.pyplot as plt\n",
    "\n",
    "from shimi import *\n",
    "from motion.move import *\n",
    "import time\n",
    "import datetime\n",
    "\n",
    "from copy import deepcopy\n",
    "\n",
    "import os\n",
    "\n",
    "import threading\n",
    "\n",
    "# Load Shimi model. Contains motor definitions and angle limits.\n",
    "# shimi = Shimi('config/shimi_robot_model.json')\n",
    "\n",
    "# Load Shimi\n",
    "shimi = Shimi()\n",
    "\n",
    "local_gestures = {}"
   ]
  },
  {
   "cell_type": "markdown",
   "metadata": {},
   "source": [
    "If you need to re-run the first cell, you must first close the connection to the motors by running this cell."
   ]
  },
  {
   "cell_type": "code",
   "execution_count": null,
   "metadata": {
    "collapsed": true
   },
   "outputs": [],
   "source": [
    "# Closes the serial connection to the motors\n",
    "shimi.close()"
   ]
  },
  {
   "cell_type": "markdown",
   "metadata": {},
   "source": [
    "The next cell gets a `recorder` object and starts a recording!\n",
    "\n",
    "In the call to `get_recorder()`, you need to provide a list of motors you want to record from. The motors can be referenced as follows:\n",
    "- `shimi.all_motors`\n",
    "  - **This returns a list**, so no need to wrap this attribute when calling `get_recorder()`\n",
    "- `shimi.torso`\n",
    "- `shimi.neck_ud`\n",
    "- `shimi.neck_lr`\n",
    "- `shimi.phone`\n",
    "- `shimi.foot`\n",
    "\n",
    "In the call to `make_recording()`, edit the `wait_time` (time from when you run the cell to when it starts, in **integer** seconds) and the `recording_time` (in seconds, can be float) accordingly."
   ]
  },
  {
   "cell_type": "code",
   "execution_count": null,
   "metadata": {
    "collapsed": true
   },
   "outputs": [],
   "source": [
    "# Get a recorder object for Shimi\n",
    "recorder = shimi.get_recorder(shimi.all_motors)\n",
    "\n",
    "# Make the recording\n",
    "recorder = shimi.make_recording(recorder, wait_time=3, recording_time=10.0)\n",
    "\n",
    "# Plot the recording\n",
    "recorder.move.plot(plt.axes())"
   ]
  },
  {
   "cell_type": "markdown",
   "metadata": {},
   "source": [
    "To play the recording you just made run the following cell."
   ]
  },
  {
   "cell_type": "code",
   "execution_count": null,
   "metadata": {
    "collapsed": true,
    "scrolled": false
   },
   "outputs": [],
   "source": [
    "shimi.play_recordings([recorder.move])"
   ]
  },
  {
   "cell_type": "markdown",
   "metadata": {},
   "source": [
    "If you are happy with that recording, hold onto it by running the following cell, **changing the name in the dictionary the recorder is being assigned to**! This is **only saving the gesture in memory in the python notebook** so if you want to save to disk, look at the next cell."
   ]
  },
  {
   "cell_type": "code",
   "execution_count": null,
   "metadata": {
    "collapsed": true
   },
   "outputs": [],
   "source": [
    "# Change the string here or risk overwriting a previous gesture!!\n",
    "name = 'myGesture'\n",
    "local_gestures[name] = deepcopy(recorder.move)\n",
    "print(\"Saved gesture \" + name + \" in this notebook.\")"
   ]
  },
  {
   "cell_type": "markdown",
   "metadata": {},
   "source": [
    "You can make sure it plays back by running the following cell."
   ]
  },
  {
   "cell_type": "code",
   "execution_count": null,
   "metadata": {
    "collapsed": true
   },
   "outputs": [],
   "source": [
    "shimi.play_recordings([local_gestures[name]])"
   ]
  },
  {
   "cell_type": "markdown",
   "metadata": {},
   "source": [
    "To save the recording to disk, run the following cell. It will save to 'recorded_gestures/name-timestamp.move`."
   ]
  },
  {
   "cell_type": "code",
   "execution_count": null,
   "metadata": {
    "collapsed": true
   },
   "outputs": [],
   "source": [
    "ts = time.time()\n",
    "timestamp = datetime.datetime.fromtimestamp(ts).strftime('%Y-%m-%d_%H:%M:%S')\n",
    "foldername = '/home/nvidia/shimi/recorded_getsures'\n",
    "filename = name + '-' + timestamp + '.move'\n",
    "\n",
    "with open(os.path.join(foldername, filename), 'w') as f:\n",
    "    local_gestures[name].save(f)\n",
    "    \n",
    "print(\"Saved gesture to \" + os.path.join(foldername, filename))    "
   ]
  },
  {
   "cell_type": "markdown",
   "metadata": {},
   "source": [
    "Here are some helper functions."
   ]
  },
  {
   "cell_type": "code",
   "execution_count": null,
   "metadata": {},
   "outputs": [],
   "source": [
    "# Puts shimi in a neutral position with motors non-compliant\n",
    "shimi.initial_position()"
   ]
  },
  {
   "cell_type": "markdown",
   "metadata": {},
   "source": [
    "## **Make sure Shimi will not collapse before you run this!!!**"
   ]
  },
  {
   "cell_type": "code",
   "execution_count": null,
   "metadata": {
    "collapsed": true
   },
   "outputs": [],
   "source": [
    "# Makes the motors compliant\n",
    "shimi.disable_torque()"
   ]
  },
  {
   "cell_type": "code",
   "execution_count": 6,
   "metadata": {},
   "outputs": [],
   "source": [
    "m = LinearAccelMove(shimi, shimi.neck_lr, 60, 2.0)\n",
    "m.start()"
   ]
  },
  {
   "cell_type": "code",
   "execution_count": 7,
   "metadata": {},
   "outputs": [
    {
     "name": "stdout",
     "output_type": "stream",
     "text": [
      "Paused 2\n"
     ]
    }
   ],
   "source": [
    "m.pause()"
   ]
  },
  {
   "cell_type": "code",
   "execution_count": 8,
   "metadata": {},
   "outputs": [
    {
     "name": "stdout",
     "output_type": "stream",
     "text": [
      "resuming\n",
      "Done moving. orig goal pos: 60 | pres pos: (59.38,)\n"
     ]
    }
   ],
   "source": [
    "m.resume()"
   ]
  },
  {
   "cell_type": "code",
   "execution_count": null,
   "metadata": {
    "collapsed": true
   },
   "outputs": [],
   "source": []
  }
 ],
 "metadata": {
  "kernelspec": {
   "display_name": "Python (shimi)",
   "language": "python",
   "name": "shimi"
  },
  "language_info": {
   "codemirror_mode": {
    "name": "ipython",
    "version": 3
   },
   "file_extension": ".py",
   "mimetype": "text/x-python",
   "name": "python",
   "nbconvert_exporter": "python",
   "pygments_lexer": "ipython3",
   "version": "3.7.0"
  }
 },
 "nbformat": 4,
 "nbformat_minor": 2
}
