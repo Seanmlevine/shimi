{
 "cells": [
  {
   "cell_type": "markdown",
   "metadata": {},
   "source": [
    "# Recording a Gesture for Shimi\n",
    "\n",
    "First, run the cell below to instatiate the shimi object. It should move to its initial positions and then relax."
   ]
  },
  {
   "cell_type": "code",
   "execution_count": 1,
   "metadata": {},
   "outputs": [
    {
     "name": "stdout",
     "output_type": "stream",
     "text": [
      "Connecting on /dev/ttyACM0\n",
      "Found motors with the following IDs: [1, 2, 3, 4, 5]\n",
      "(OrderedDict([('model', 'MX-28'),\n",
      "              ('firmware', 30),\n",
      "              ('id', 1),\n",
      "              ('baudrate', 1),\n",
      "              ('return delay time', 0),\n",
      "              ('angle limit', (-99.03, 14.64)),\n",
      "              ('highest temperature limit', 80.0),\n",
      "              ('voltage limit', (6.0, 16.0)),\n",
      "              ('max torque', 100.0),\n",
      "              ('status return level', 'always'),\n",
      "              ('alarm LED', ('Overload Error', 'Overheating Error')),\n",
      "              ('alarm shutdown', ('Overload Error', 'Overheating Error')),\n",
      "              ('torque_enable', True),\n",
      "              ('LED', False),\n",
      "              ('pid gain', (0.0, 0.0, 4.0)),\n",
      "              ('goal position', 8.92),\n",
      "              ('moving speed', 69.768),\n",
      "              ('torque limit', 100.0),\n",
      "              ('present position', 9.54),\n",
      "              ('present speed', 0.0),\n",
      "              ('present load', 6.3),\n",
      "              ('present voltage', 8.1),\n",
      "              ('present temperature', 46.0),\n",
      "              ('moving', False)]),\n",
      " OrderedDict([('model', 'MX-28'),\n",
      "              ('firmware', 29),\n",
      "              ('id', 2),\n",
      "              ('baudrate', 1),\n",
      "              ('return delay time', 0),\n",
      "              ('angle limit', (-111.6, 68.44)),\n",
      "              ('highest temperature limit', 80.0),\n",
      "              ('voltage limit', (6.0, 16.0)),\n",
      "              ('max torque', 100.0),\n",
      "              ('status return level', 'always'),\n",
      "              ('alarm LED', ('Overload Error', 'Overheating Error')),\n",
      "              ('alarm shutdown', ('Overload Error', 'Overheating Error')),\n",
      "              ('torque_enable', True),\n",
      "              ('LED', False),\n",
      "              ('pid gain', (0.128, 0.0, 0.0)),\n",
      "              ('goal position', -21.58),\n",
      "              ('moving speed', 209.98800000000003),\n",
      "              ('torque limit', 100.0),\n",
      "              ('present position', -21.85),\n",
      "              ('present speed', 0.0),\n",
      "              ('present load', -1.6),\n",
      "              ('present voltage', 12.200000000000001),\n",
      "              ('present temperature', 45.0),\n",
      "              ('moving', False)]),\n",
      " OrderedDict([('model', 'MX-28'),\n",
      "              ('firmware', 30),\n",
      "              ('id', 3),\n",
      "              ('baudrate', 1),\n",
      "              ('return delay time', 0),\n",
      "              ('angle limit', (-50.42, 9.8)),\n",
      "              ('highest temperature limit', 80.0),\n",
      "              ('voltage limit', (6.0, 16.0)),\n",
      "              ('max torque', 100.0),\n",
      "              ('status return level', 'always'),\n",
      "              ('alarm LED', ('Overload Error', 'Overheating Error')),\n",
      "              ('alarm shutdown', ('Overload Error', 'Overheating Error')),\n",
      "              ('torque_enable', True),\n",
      "              ('LED', False),\n",
      "              ('pid gain', (0.0, 0.0, 4.0)),\n",
      "              ('goal position', 3.74),\n",
      "              ('moving speed', 64.98),\n",
      "              ('torque limit', 100.0),\n",
      "              ('present position', 4.44),\n",
      "              ('present speed', 0.0),\n",
      "              ('present load', 6.3),\n",
      "              ('present voltage', 8.1),\n",
      "              ('present temperature', 46.0),\n",
      "              ('moving', False)]),\n",
      " OrderedDict([('model', 'MX-28'),\n",
      "              ('firmware', 30),\n",
      "              ('id', 4),\n",
      "              ('baudrate', 1),\n",
      "              ('return delay time', 0),\n",
      "              ('angle limit', (-180.0, 180.0)),\n",
      "              ('highest temperature limit', 80.0),\n",
      "              ('voltage limit', (6.0, 16.0)),\n",
      "              ('max torque', 100.0),\n",
      "              ('status return level', 'always'),\n",
      "              ('alarm LED', ('Overload Error', 'Overheating Error')),\n",
      "              ('alarm shutdown', ('Overload Error', 'Overheating Error')),\n",
      "              ('torque_enable', True),\n",
      "              ('LED', False),\n",
      "              ('pid gain', (0.0, 0.0, 4.0)),\n",
      "              ('goal position', -11.82),\n",
      "              ('moving speed', 0.0),\n",
      "              ('torque limit', 100.0),\n",
      "              ('present position', -11.91),\n",
      "              ('present speed', 0.0),\n",
      "              ('present load', -0.8),\n",
      "              ('present voltage', 8.700000000000001),\n",
      "              ('present temperature', 43.0),\n",
      "              ('moving', False)]),\n",
      " OrderedDict([('model', 'MX-28'),\n",
      "              ('firmware', 30),\n",
      "              ('id', 5),\n",
      "              ('baudrate', 1),\n",
      "              ('return delay time', 0),\n",
      "              ('angle limit', (5.41, 21.14)),\n",
      "              ('highest temperature limit', 80.0),\n",
      "              ('voltage limit', (6.0, 16.0)),\n",
      "              ('max torque', 100.0),\n",
      "              ('status return level', 'always'),\n",
      "              ('alarm LED', ('Overload Error', 'Overheating Error')),\n",
      "              ('alarm shutdown', ('Overload Error', 'Overheating Error')),\n",
      "              ('torque_enable', True),\n",
      "              ('LED', False),\n",
      "              ('pid gain', (0.0, 0.0, 4.0)),\n",
      "              ('goal position', 5.41),\n",
      "              ('moving speed', 10.26),\n",
      "              ('torque limit', 100.0),\n",
      "              ('present position', 5.41),\n",
      "              ('present speed', 0.0),\n",
      "              ('present load', 0.0),\n",
      "              ('present voltage', 8.9),\n",
      "              ('present temperature', 42.0),\n",
      "              ('moving', False)]))\n",
      "Setting motors to starting positions:\n",
      "{1: 10.0, 2: -21.6, 3: 0.0, 4: -11.85, 5: 5.41}\n"
     ]
    }
   ],
   "source": [
    "# Import some matplolib shortcuts for Jupyter notebook\n",
    "%matplotlib inline\n",
    "\n",
    "import numpy as np\n",
    "import matplotlib.pyplot as plt\n",
    "\n",
    "from shimi import *\n",
    "from motion.move import *\n",
    "from config.definitions import *\n",
    "from motion.recorder import *\n",
    "from motion.playback import *\n",
    "from audio.audio import *\n",
    "from audio.play_song_demo import *\n",
    "from posenet.posenet import *\n",
    "\n",
    "import time\n",
    "import datetime\n",
    "\n",
    "from copy import deepcopy\n",
    "\n",
    "import os\n",
    "\n",
    "import threading\n",
    "\n",
    "# Load Shimi\n",
    "shimi = Shimi()\n",
    "\n",
    "local_gestures = {}"
   ]
  },
  {
   "cell_type": "markdown",
   "metadata": {},
   "source": [
    "The cell below defines the recorder object. The first parameter is a reference to the motor controller, the second is a **list** of motor ids, referenced by a convenience property on `shimi`. The options are as follows:\n",
    "* `shimi.torso`\n",
    "* `shimi.neck_lr`\n",
    "* `shimi.neck_ud`\n",
    "* `shimi.phone`\n",
    "* `shimi.foot`\n",
    "* `shimi.all_motors`: this **returns a list**, so you don't need to wrap it in one in this call\n",
    "\n",
    "\n",
    "The final parameter is the duration for which you want to record."
   ]
  },
  {
   "cell_type": "code",
   "execution_count": null,
   "metadata": {},
   "outputs": [],
   "source": [
    "r = Recorder(shimi, shimi.all_motors, 3.0)"
   ]
  },
  {
   "cell_type": "markdown",
   "metadata": {},
   "source": [
    "This starts a recording. It will count down from 3 to let you know when the recording starts, then move Shimi as you want it to move. **The first thing this call does is relax the motors, so be sure it doesn't collapse on itself when you call this.**"
   ]
  },
  {
   "cell_type": "code",
   "execution_count": null,
   "metadata": {},
   "outputs": [],
   "source": [
    "r.record()\n",
    "r.plot(plt.axes())"
   ]
  },
  {
   "cell_type": "markdown",
   "metadata": {},
   "source": [
    "Then, run this to play back the recorded gesture."
   ]
  },
  {
   "cell_type": "code",
   "execution_count": null,
   "metadata": {},
   "outputs": [],
   "source": [
    "r.play(plt.axes())"
   ]
  },
  {
   "cell_type": "markdown",
   "metadata": {},
   "source": [
    "### Here are some helper functions."
   ]
  },
  {
   "cell_type": "code",
   "execution_count": 8,
   "metadata": {},
   "outputs": [
    {
     "name": "stdout",
     "output_type": "stream",
     "text": [
      "Setting motors to starting positions:\n",
      "{1: 10.0, 2: -21.6, 3: 0.0, 4: -11.85, 5: 5.41}\n"
     ]
    }
   ],
   "source": [
    "# Puts shimi in a neutral position with motors non-compliant\n",
    "shimi.initial_position()"
   ]
  },
  {
   "cell_type": "markdown",
   "metadata": {},
   "source": [
    "## **Make sure Shimi will not collapse before you run this!!!**"
   ]
  },
  {
   "cell_type": "code",
   "execution_count": 7,
   "metadata": {},
   "outputs": [],
   "source": [
    "# Makes the motors compliant\n",
    "shimi.disable_torque()"
   ]
  },
  {
   "cell_type": "markdown",
   "metadata": {},
   "source": [
    "### Here's a hard-coded demo of Shimi dancing to Hey Ya"
   ]
  },
  {
   "cell_type": "code",
   "execution_count": 9,
   "metadata": {},
   "outputs": [
    {
     "name": "stdout",
     "output_type": "stream",
     "text": [
      "Setting motors to starting positions:\n",
      "{1: 10.0, 2: -21.6, 3: 0.0, 4: -11.85, 5: 5.41}\n"
     ]
    }
   ],
   "source": [
    "play_outkast(shimi)"
   ]
  },
  {
   "cell_type": "code",
   "execution_count": 6,
   "metadata": {},
   "outputs": [
    {
     "name": "stdout",
     "output_type": "stream",
     "text": [
      "Setting positions {1: 8.285927600742227, 3: -1.7472456291869523, 2: -23.18261737879167, 4: -12.350266888364855, 5: 5.140000000000119}\n",
      "Setting positions {1: 9.20674117780127, 3: -3.9367109421201447, 2: -20.943156051713373, 4: -12.351439705300407, 5: 5.14000000000012}\n",
      "Setting positions {5: 5.140000000000114}\n",
      "Setting positions {5: 5.140000000000116}\n",
      "Didn't sleep.\n",
      "Didn't sleep.\n",
      "Didn't sleep.\n",
      "Setting positions {5: 5.140000000000111}\n",
      "Didn't sleep.\n",
      "Didn't sleep.\n",
      "Setting positions {3: -2.1051441193455434}\n",
      "Didn't sleep.\n",
      "Didn't sleep.\n",
      "Didn't sleep.\n",
      "Didn't sleep.\n",
      "Didn't sleep.\n",
      "Didn't sleep.\n",
      "Didn't sleep.\n",
      "Didn't sleep.\n",
      "Didn't sleep.\n",
      "Didn't sleep.\n",
      "Didn't sleep.\n",
      "Setting positions {1: -50.2112880406158}\n",
      "Didn't sleep.\n",
      "Didn't sleep.\n",
      "Setting positions {5: 5.140000000000112}\n",
      "Setting positions {5: 5.14000000000011}\n",
      "Setting positions {5: 5.140000000000111}\n",
      "Setting positions {5: 5.140000000000109}\n",
      "Setting positions {5: 5.14000000000011}\n",
      "Setting positions {5: 5.140000000000109}\n",
      "Setting positions {5: 5.14000000000011}\n",
      "Setting positions {5: 5.140000000000107}\n",
      "Didn't sleep.\n",
      "Didn't sleep.\n",
      "Didn't sleep.\n",
      "Didn't sleep.\n",
      "Didn't sleep.\n",
      "Didn't sleep.\n",
      "Setting positions {5: 5.140000000000109}\n",
      "Didn't sleep.\n",
      "Setting positions {5: 5.140000000000107}\n",
      "Setting positions {5: 5.140000000000108}\n",
      "Setting positions {5: 5.140000000000106}\n",
      "Setting positions {5: 5.140000000000108}\n",
      "Didn't sleep.\n",
      "Setting positions {3: -48.29888890953381, 5: 5.1400000000001045}\n",
      "Setting positions {5: 5.140000000000105}\n",
      "Setting positions {5: 5.140000000000103}\n",
      "Setting positions {5: 5.140000000000105}\n",
      "Setting positions {5: 5.140000000000103}\n",
      "Setting positions {5: 5.140000000000104}\n",
      "Didn't sleep.\n",
      "Setting positions {5: 5.140000000000103}\n",
      "Setting positions {5: 5.140000000000104}\n",
      "Didn't sleep.\n",
      "Didn't sleep.\n",
      "Setting positions {5: 5.140000000000103}\n",
      "Didn't sleep.\n",
      "Didn't sleep.\n",
      "Didn't sleep.\n",
      "Setting positions {5: 5.140000000000104}\n",
      "Didn't sleep.\n",
      "Setting positions {5: 5.140000000000101}\n",
      "Didn't sleep.\n",
      "Setting positions {5: 5.140000000000102}\n",
      "Didn't sleep.\n",
      "Setting positions {5: 5.1400000000001}\n",
      "Setting positions {5: 5.140000000000102}\n",
      "Setting positions {2: -21.912439653081062, 5: 5.140000000000099}\n",
      "Setting positions {5: 5.1400000000001}\n",
      "Setting positions {5: 5.140000000000099}\n",
      "Setting positions {5: 5.140000000000101}\n",
      "Setting positions {5: 5.140000000000098}\n",
      "Setting positions {5: 5.140000000000099}\n",
      "Setting positions {5: 5.140000000000097}\n",
      "Setting positions {5: 5.140000000000098}\n",
      "Didn't sleep.\n",
      "Didn't sleep.\n",
      "Setting positions {5: 5.140000000000096}\n",
      "Didn't sleep.\n",
      "Didn't sleep.\n",
      "Setting positions {5: 5.140000000000097}\n",
      "Didn't sleep.\n",
      "Setting positions {5: 5.140000000000096}\n",
      "Setting positions {5: 5.1400000000000965}\n",
      "Setting positions {5: 5.140000000000094}\n",
      "Setting positions {5: 5.1400000000000965}\n",
      "Setting positions {5: 5.140000000000096}\n",
      "Setting positions {5: 5.1400000000000965}\n",
      "Setting positions {5: 5.140000000000094}\n",
      "Setting positions {5: 5.1400000000000965}\n",
      "Setting positions {5: 5.140000000000094}\n",
      "Setting positions {5: 5.140000000000095}\n",
      "Setting positions {5: 5.140000000000093}\n",
      "Setting positions {5: 5.140000000000094}\n",
      "Didn't sleep.\n",
      "Setting positions {5: 5.140000000000092}\n",
      "Setting positions {5: 5.140000000000095}\n",
      "Setting positions {5: 5.140000000000093}\n",
      "Didn't sleep.\n",
      "Didn't sleep.\n",
      "Setting positions {5: 5.140000000000095}\n",
      "Didn't sleep.\n",
      "Setting positions {5: 5.140000000000092}\n",
      "Didn't sleep.\n",
      "Didn't sleep.\n",
      "Didn't sleep.\n",
      "Setting positions {5: 5.140000000000093}\n",
      "Didn't sleep.\n",
      "Setting positions {5: 5.14000000000009}\n",
      "Setting positions {5: 5.140000000000091}\n",
      "Setting positions {5: 5.14000000000009}\n",
      "Setting positions {5: 5.140000000000091}\n",
      "Setting positions {5: 5.140000000000089}\n",
      "Setting positions {5: 5.14000000000009}\n",
      "Setting positions {5: 5.140000000000089}\n",
      "Setting positions {5: 5.140000000000091}\n",
      "Setting positions {5: 5.1400000000000885}\n",
      "Setting positions {5: 5.140000000000089}\n",
      "Setting positions {5: 5.1400000000000885}\n",
      "Setting positions {5: 5.140000000000089}\n",
      "Setting positions {5: 5.140000000000088}\n",
      "Setting positions {5: 5.1400000000000885}\n",
      "Setting positions {5: 5.140000000000086}\n",
      "Didn't sleep.\n",
      "Didn't sleep.\n",
      "Setting positions {5: 5.140000000000087}\n",
      "Setting positions {5: 5.140000000000086}\n",
      "Setting positions {5: 5.140000000000087}\n",
      "Setting positions {5: 5.140000000000085}\n",
      "Setting positions {5: 5.140000000000087}\n",
      "Setting positions {5: 5.140000000000084}\n",
      "Setting positions {5: 5.140000000000085}\n",
      "Setting positions {5: 5.140000000000083}\n",
      "Setting positions {5: 5.140000000000085}\n",
      "Setting positions {5: 5.140000000000082}\n",
      "Setting positions {5: 5.140000000000083}\n",
      "Didn't sleep.\n",
      "Setting positions {5: 5.140000000000081}\n",
      "Didn't sleep.\n",
      "Didn't sleep.\n",
      "Didn't sleep.\n",
      "Setting positions {5: 5.140000000000082}\n",
      "Didn't sleep.\n",
      "Setting positions {5: 5.1400000000000805}\n",
      "Setting positions {5: 5.140000000000082}\n",
      "Setting positions {5: 5.1400000000000805}\n",
      "Setting positions {5: 5.140000000000081}\n",
      "Didn't sleep.\n",
      "Setting positions {5: 5.1400000000000805}\n",
      "Setting positions {5: 5.140000000000082}\n",
      "Setting positions {5: 5.140000000000079}\n",
      "Setting positions {5: 5.14000000000008}\n",
      "Didn't sleep.\n",
      "Didn't sleep.\n",
      "Setting positions {5: 5.140000000000078}\n",
      "Didn't sleep.\n",
      "Setting positions {5: 5.14000000000008}\n",
      "Didn't sleep.\n",
      "Didn't sleep.\n",
      "Didn't sleep.\n",
      "Setting positions {2: -15.440266902659786}\n",
      "Didn't sleep.\n",
      "Setting positions {5: 5.140000000000078}\n",
      "Didn't sleep.\n",
      "Didn't sleep.\n",
      "Setting positions {5: 5.140000000000079}\n",
      "Didn't sleep.\n",
      "Didn't sleep.\n",
      "Setting positions {5: 5.140000000000076}\n",
      "Didn't sleep.\n",
      "Setting positions {5: 5.140000000000077}\n",
      "Setting positions {5: 5.140000000000075}\n",
      "Setting positions {5: 5.140000000000076}\n",
      "Setting positions {5: 5.140000000000074}\n",
      "Setting positions {5: 5.140000000000075}\n",
      "Setting positions {5: 5.140000000000074}\n",
      "Didn't sleep.\n",
      "Setting positions {5: 5.140000000000075}\n",
      "Didn't sleep.\n",
      "Didn't sleep.\n",
      "Setting positions {5: 5.1400000000000725}\n",
      "Didn't sleep.\n",
      "Setting positions {3: -14.31610639783494}\n",
      "Didn't sleep.\n",
      "Setting positions {5: 5.140000000000074}\n",
      "Didn't sleep.\n",
      "Didn't sleep.\n",
      "Didn't sleep.\n",
      "Setting positions {5: 5.1400000000000725}\n",
      "Didn't sleep.\n"
     ]
    },
    {
     "name": "stderr",
     "output_type": "stream",
     "text": [
      "Exception in thread Thread-32:\n",
      "Traceback (most recent call last):\n",
      "  File \"/usr/lib/python3.6/threading.py\", line 916, in _bootstrap_inner\n",
      "    self.run()\n",
      "  File \"/usr/lib/python3.6/threading.py\", line 864, in run\n",
      "    self._target(*self._args, **self._kwargs)\n",
      "  File \"/home/nvidia/shimi/motion/recorder.py\", line 79, in play\n",
      "    playback(self.shimi, self.motors, self.duration, self.timestamps, self.positions, self.velocities, pos_ax, vel_ax)\n",
      "  File \"/home/nvidia/shimi/motion/playback.py\", line 175, in playback\n",
      "    time.sleep(INTERP_FREQ - (time.time() - compute_time))\n",
      "ValueError: sleep length must be non-negative\n",
      "\n"
     ]
    }
   ],
   "source": [
    "play_opera(shimi)"
   ]
  },
  {
   "cell_type": "code",
   "execution_count": null,
   "metadata": {},
   "outputs": [],
   "source": [
    "p = PoseNet(shimi)"
   ]
  },
  {
   "cell_type": "code",
   "execution_count": null,
   "metadata": {},
   "outputs": [],
   "source": [
    "p.record()"
   ]
  },
  {
   "cell_type": "code",
   "execution_count": null,
   "metadata": {},
   "outputs": [],
   "source": [
    "p.play(None, plt.axes())"
   ]
  },
  {
   "cell_type": "code",
   "execution_count": null,
   "metadata": {},
   "outputs": [],
   "source": [
    "p.stop_posenet()"
   ]
  },
  {
   "cell_type": "code",
   "execution_count": null,
   "metadata": {},
   "outputs": [],
   "source": [
    "m = LinearMove(shimi, shimi.torso, 1.0, 1.0, normalized_positions=True)\n",
    "m.start()"
   ]
  },
  {
   "cell_type": "code",
   "execution_count": null,
   "metadata": {},
   "outputs": [],
   "source": [
    "playback(shimi, r.motors, r.dur, r.timestamps, r.positions, r.velocities, plt.axes())"
   ]
  },
  {
   "cell_type": "code",
   "execution_count": null,
   "metadata": {},
   "outputs": [],
   "source": [
    "r.append_recording(r1)"
   ]
  },
  {
   "cell_type": "code",
   "execution_count": null,
   "metadata": {},
   "outputs": [],
   "source": [
    "r.save(\"da_da_da\")"
   ]
  },
  {
   "cell_type": "code",
   "execution_count": null,
   "metadata": {},
   "outputs": [],
   "source": [
    "r = load_recorder(shimi, \"opera\")"
   ]
  },
  {
   "cell_type": "code",
   "execution_count": null,
   "metadata": {},
   "outputs": [],
   "source": [
    "r.append_recording(load_recorder(shimi, \"da_da_da\"))"
   ]
  },
  {
   "cell_type": "code",
   "execution_count": 12,
   "metadata": {},
   "outputs": [
    {
     "name": "stdout",
     "output_type": "stream",
     "text": [
      "Microphone with name \"tegra-hda: HDMI 0 (hw:0,3)\" found for `Microphone(device_index=0)`\n",
      "Microphone with name \"tegra-hda: HDMI 0 (hw:0,7)\" found for `Microphone(device_index=1)`\n",
      "Microphone with name \"ReSpeaker 4 Mic Array (UAC1.0): USB Audio (hw:1,0)\" found for `Microphone(device_index=2)`\n",
      "Microphone with name \"pulse\" found for `Microphone(device_index=3)`\n",
      "Microphone with name \"default\" found for `Microphone(device_index=4)`\n",
      "Please be quiet for calibration...\n",
      "...done calibrating.\n",
      "Playing outkast...\n",
      "Setting motors to starting positions:\n",
      "{1: 10.0, 2: -21.6, 3: 0.0, 4: -11.85, 5: 5.41}\n"
     ]
    }
   ],
   "source": [
    "d = PlaySongDemo(shimi)\n",
    "d.start()"
   ]
  },
  {
   "cell_type": "code",
   "execution_count": 13,
   "metadata": {},
   "outputs": [
    {
     "name": "stdout",
     "output_type": "stream",
     "text": [
      "I don't understand: cancel\n"
     ]
    }
   ],
   "source": [
    "d.stop()"
   ]
  },
  {
   "cell_type": "code",
   "execution_count": null,
   "metadata": {},
   "outputs": [],
   "source": []
  }
 ],
 "metadata": {
  "kernelspec": {
   "display_name": "Python 3",
   "language": "python",
   "name": "python3"
  },
  "language_info": {
   "codemirror_mode": {
    "name": "ipython",
    "version": 3
   },
   "file_extension": ".py",
   "mimetype": "text/x-python",
   "name": "python",
   "nbconvert_exporter": "python",
   "pygments_lexer": "ipython3",
   "version": "3.6.6"
  }
 },
 "nbformat": 4,
 "nbformat_minor": 2
}
