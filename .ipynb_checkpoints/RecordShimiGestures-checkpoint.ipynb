{
 "cells": [
  {
   "cell_type": "markdown",
   "metadata": {},
   "source": [
    "# Recording a Gesture for Shimi\n",
    "\n",
    "First, run the cell below to instatiate the shimi object. It should move to its initial positions and then relax.\n",
    "\n",
    "**There's currently an issue where every other time the pypot motor library is run it crashes. Re-run the cell in this case.**"
   ]
  },
  {
   "cell_type": "code",
   "execution_count": 12,
   "metadata": {},
   "outputs": [
    {
     "name": "stdout",
     "output_type": "stream",
     "text": [
      "Setting motors to starting positions {1: 10, 2: -21.599999999999994, 3: 0, 4: -11.85, 5: 5.41}\n"
     ]
    }
   ],
   "source": [
    "# Import some matplolib shortcuts for Jupyter notebook\n",
    "%matplotlib inline\n",
    "\n",
    "import numpy as np\n",
    "import matplotlib.pyplot as plt\n",
    "\n",
    "from shimi import *\n",
    "import time\n",
    "import datetime\n",
    "\n",
    "from copy import deepcopy\n",
    "\n",
    "import os\n",
    "\n",
    "# Load Shimi model. Contains motor definitions and angle limits.\n",
    "shimi = Shimi('config/shimi_robot_model.json')\n",
    "\n",
    "# Let Shimi move to initial positions.\n",
    "time.sleep(1.0)\n",
    "\n",
    "# Allow the motors to be moved by hand.\n",
    "shimi.make_compliant()\n",
    "\n",
    "local_gestures = {}"
   ]
  },
  {
   "cell_type": "markdown",
   "metadata": {},
   "source": [
    "If you need to re-run the first cell, you must first close the connection to the motors by running this cell."
   ]
  },
  {
   "cell_type": "code",
   "execution_count": 10,
   "metadata": {},
   "outputs": [],
   "source": [
    "# Closes the serial connection to the motors\n",
    "shimi.close()"
   ]
  },
  {
   "cell_type": "markdown",
   "metadata": {},
   "source": [
    "The next cell gets a `recorder` object and starts a recording!\n",
    "\n",
    "In the call to `get_recorder()`, you need to provide a list of motors you want to record from. The motors can be referenced as follows:\n",
    "- `shimi.all_motors`\n",
    "  - **This returns a list**, so no need to wrap this attribute when calling `get_recorder()`\n",
    "- `shimi.torso`\n",
    "- `shimi.neck_ud`\n",
    "- `shimi.neck_lr`\n",
    "- `shimi.phone`\n",
    "- `shimi.foot`\n",
    "\n",
    "In the call to `make_recording()`, edit the `wait_time` (time from when you run the cell to when it starts, in **integer** seconds) and the `recording_time` (in seconds, can be float) accordingly."
   ]
  },
  {
   "cell_type": "code",
   "execution_count": 14,
   "metadata": {},
   "outputs": [
    {
     "name": "stdout",
     "output_type": "stream",
     "text": [
      "3...\n",
      "2...\n",
      "1...\n",
      "Starting to record!\n",
      "Recording stopped.\n",
      "244 frames recorded.\n"
     ]
    },
    {
     "data": {
      "image/png": "[encoded data removed]",
      "text/plain": [
       "<Figure size 432x288 with 1 Axes>"
      ]
     },
     "metadata": {
      "needs_background": "light"
     },
     "output_type": "display_data"
    }
   ],
   "source": [
    "# Get a recorder object for Shimi\n",
    "recorder = shimi.get_recorder(shimi.all_motors)\n",
    "\n",
    "# Make the recording\n",
    "recorder = shimi.make_recording(recorder, wait_time=3, recording_time=5.0)\n",
    "\n",
    "# Plot the recording\n",
    "recorder.move.plot(plt.axes())"
   ]
  },
  {
   "cell_type": "markdown",
   "metadata": {},
   "source": [
    "To play the recording you just made run the following cell."
   ]
  },
  {
   "cell_type": "code",
   "execution_count": 15,
   "metadata": {
    "scrolled": false
   },
   "outputs": [],
   "source": [
    "shimi.play_recordings([recorder.move])"
   ]
  },
  {
   "cell_type": "markdown",
   "metadata": {},
   "source": [
    "If you are happy with that recording, hold onto it by running the following cell, **changing the name in the dictionary the recorder is being assigned to**! This is **only saving the gesture in memory in the python notebook** so if you want to save to disk, look at the next cell."
   ]
  },
  {
   "cell_type": "code",
   "execution_count": 16,
   "metadata": {},
   "outputs": [
    {
     "name": "stdout",
     "output_type": "stream",
     "text": [
      "Saved gesture myGesture in this notebook.\n"
     ]
    }
   ],
   "source": [
    "# Change the string here or risk overwriting a previous gesture!!\n",
    "name = 'myGesture'\n",
    "local_gestures[name] = deepcopy(recorder.move)\n",
    "print(\"Saved gesture \" + name + \" in this notebook.\")"
   ]
  },
  {
   "cell_type": "markdown",
   "metadata": {},
   "source": [
    "You can make sure it plays back by running the following cell."
   ]
  },
  {
   "cell_type": "code",
   "execution_count": 17,
   "metadata": {},
   "outputs": [],
   "source": [
    "shimi.play_recordings([local_gestures[name]])"
   ]
  },
  {
   "cell_type": "markdown",
   "metadata": {},
   "source": [
    "To save the recording to disk, run the following cell. It will save to 'recorded_gestures/name-timestamp.move`."
   ]
  },
  {
   "cell_type": "code",
   "execution_count": 21,
   "metadata": {},
   "outputs": [
    {
     "name": "stdout",
     "output_type": "stream",
     "text": [
      "Saved gesture to /home/nvidia/shimi/recorded_getsures/myGesture-2018-09-06_19:52:37.move\n"
     ]
    }
   ],
   "source": [
    "ts = time.time()\n",
    "timestamp = datetime.datetime.fromtimestamp(ts).strftime('%Y-%m-%d_%H:%M:%S')\n",
    "foldername = '/home/nvidia/shimi/recorded_getsures'\n",
    "filename = name + '-' + timestamp + '.move'\n",
    "\n",
    "with open(os.path.join(foldername, filename), 'w') as f:\n",
    "    local_gestures[name].save(f)\n",
    "    \n",
    "print(\"Saved gesture to \" + os.path.join(foldername, filename))    "
   ]
  },
  {
   "cell_type": "markdown",
   "metadata": {},
   "source": [
    "Here are some helper functions."
   ]
  },
  {
   "cell_type": "code",
   "execution_count": 22,
   "metadata": {},
   "outputs": [
    {
     "name": "stdout",
     "output_type": "stream",
     "text": [
      "Setting motors to starting positions {1: 10, 2: -21.599999999999994, 3: 0, 4: -11.85, 5: 5.41}\n"
     ]
    }
   ],
   "source": [
    "# Puts shimi in a neutral position with motors non-compliant\n",
    "shimi.initial_position()"
   ]
  },
  {
   "cell_type": "markdown",
   "metadata": {},
   "source": [
    "## **Make sure Shimi will not collapse before you run this!!!**"
   ]
  },
  {
   "cell_type": "code",
   "execution_count": 23,
   "metadata": {},
   "outputs": [],
   "source": [
    "# Makes the motors compliant\n",
    "shimi.make_compliant()"
   ]
  }
 ],
 "metadata": {
  "kernelspec": {
   "display_name": "Python 3",
   "language": "python",
   "name": "python3"
  },
  "language_info": {
   "codemirror_mode": {
    "name": "ipython",
    "version": 3
   },
   "file_extension": ".py",
   "mimetype": "text/x-python",
   "name": "python",
   "nbconvert_exporter": "python",
   "pygments_lexer": "ipython3",
   "version": "3.6.6"
  }
 },
 "nbformat": 4,
 "nbformat_minor": 2
}
