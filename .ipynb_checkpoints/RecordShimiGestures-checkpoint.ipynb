{
 "cells": [
  {
   "cell_type": "markdown",
   "metadata": {},
   "source": [
    "# Recording a Gesture for Shimi\n",
    "\n",
    "First, run the cell below to instatiate the shimi object. It should move to its initial positions and then relax.\n",
    "\n",
    "**There's currently an issue where every other time the pypot motor library is run it crashes. Re-run the cell in this case.**"
   ]
  },
  {
   "cell_type": "code",
   "execution_count": 15,
   "metadata": {},
   "outputs": [
    {
     "name": "stdout",
     "output_type": "stream",
     "text": [
      "Setting motors to starting positions {1: 10, 2: -21.599999999999994, 3: 0, 4: -11.85, 5: 5.41}\n"
     ]
    }
   ],
   "source": [
    "# Import some matplolib shortcuts for Jupyter notebook\n",
    "%matplotlib inline\n",
    "\n",
    "import numpy as np\n",
    "import matplotlib.pyplot as plt\n",
    "\n",
    "from shimi import *\n",
    "import time\n",
    "import datetime\n",
    "\n",
    "from copy import deepcopy\n",
    "\n",
    "import os\n",
    "\n",
    "# Load Shimi model. Contains motor definitions and angle limits.\n",
    "shimi = Shimi('config/shimi_robot_model.json')\n",
    "\n",
    "# Allow the motors to be moved by hand.\n",
    "shimi.make_compliant()\n",
    "\n",
    "local_gestures = {}"
   ]
  },
  {
   "cell_type": "markdown",
   "metadata": {},
   "source": [
    "If you need to re-run the first cell, you must first close the connection to the motors by running this cell."
   ]
  },
  {
   "cell_type": "code",
   "execution_count": 13,
   "metadata": {},
   "outputs": [
    {
     "name": "stderr",
     "output_type": "stream",
     "text": [
      "Exception in thread Thread-25:\n",
      "Traceback (most recent call last):\n",
      "  File \"/Users/rytrose/anaconda3/envs/shimi/lib/python3.7/threading.py\", line 917, in _bootstrap_inner\n",
      "    self.run()\n",
      "  File \"/Users/rytrose/anaconda3/envs/shimi/lib/python3.7/threading.py\", line 865, in run\n",
      "    self._target(*self._args, **self._kwargs)\n",
      "  File \"/Users/rytrose/anaconda3/envs/shimi/lib/python3.7/site-packages/pypot/utils/stoppablethread.py\", line 133, in _wrapped_target\n",
      "    self._teardown()\n",
      "  File \"/Users/rytrose/anaconda3/envs/shimi/lib/python3.7/site-packages/pypot/primitive/primitive.py\", line 93, in _prim_teardown\n",
      "    self.teardown()\n",
      "  File \"/Users/rytrose/Cloud/GTCMT/shimi/primitives/safety.py\", line 43, in teardown\n",
      "    m.torque_limit = self.initial_torque_limit[i]\n",
      "TypeError: list indices must be integers or slices, not MockupMotor\n",
      "\n"
     ]
    }
   ],
   "source": [
    "# Closes the serial connection to the motors\n",
    "shimi.close()"
   ]
  },
  {
   "cell_type": "markdown",
   "metadata": {},
   "source": [
    "The next cell gets a `recorder` object and starts a recording!\n",
    "\n",
    "In the call to `get_recorder()`, you need to provide a list of motors you want to record from. The motors can be referenced as follows:\n",
    "- `shimi.all_motors`\n",
    "  - **This returns a list**, so no need to wrap this attribute when calling `get_recorder()`\n",
    "- `shimi.torso`\n",
    "- `shimi.neck_ud`\n",
    "- `shimi.neck_lr`\n",
    "- `shimi.phone`\n",
    "- `shimi.foot`\n",
    "\n",
    "In the call to `make_recording()`, edit the `wait_time` (time from when you run the cell to when it starts, in **integer** seconds) and the `recording_time` (in seconds, can be float) accordingly."
   ]
  },
  {
   "cell_type": "code",
   "execution_count": null,
   "metadata": {
    "collapsed": true
   },
   "outputs": [],
   "source": [
    "# Get a recorder object for Shimi\n",
    "recorder = shimi.get_recorder(shimi.all_motors)\n",
    "\n",
    "# Make the recording\n",
    "recorder = shimi.make_recording(recorder, wait_time=3, recording_time=10.0)\n",
    "\n",
    "# Plot the recording\n",
    "recorder.move.plot(plt.axes())"
   ]
  },
  {
   "cell_type": "markdown",
   "metadata": {},
   "source": [
    "To play the recording you just made run the following cell."
   ]
  },
  {
   "cell_type": "code",
   "execution_count": null,
   "metadata": {
    "collapsed": true,
    "scrolled": false
   },
   "outputs": [],
   "source": [
    "shimi.play_recordings([recorder.move])"
   ]
  },
  {
   "cell_type": "markdown",
   "metadata": {},
   "source": [
    "If you are happy with that recording, hold onto it by running the following cell, **changing the name in the dictionary the recorder is being assigned to**! This is **only saving the gesture in memory in the python notebook** so if you want to save to disk, look at the next cell."
   ]
  },
  {
   "cell_type": "code",
   "execution_count": null,
   "metadata": {
    "collapsed": true
   },
   "outputs": [],
   "source": [
    "# Change the string here or risk overwriting a previous gesture!!\n",
    "name = 'myGesture'\n",
    "local_gestures[name] = deepcopy(recorder.move)\n",
    "print(\"Saved gesture \" + name + \" in this notebook.\")"
   ]
  },
  {
   "cell_type": "markdown",
   "metadata": {},
   "source": [
    "You can make sure it plays back by running the following cell."
   ]
  },
  {
   "cell_type": "code",
   "execution_count": null,
   "metadata": {
    "collapsed": true
   },
   "outputs": [],
   "source": [
    "shimi.play_recordings([local_gestures[name]])"
   ]
  },
  {
   "cell_type": "markdown",
   "metadata": {},
   "source": [
    "To save the recording to disk, run the following cell. It will save to 'recorded_gestures/name-timestamp.move`."
   ]
  },
  {
   "cell_type": "code",
   "execution_count": null,
   "metadata": {
    "collapsed": true
   },
   "outputs": [],
   "source": [
    "ts = time.time()\n",
    "timestamp = datetime.datetime.fromtimestamp(ts).strftime('%Y-%m-%d_%H:%M:%S')\n",
    "foldername = '/home/nvidia/shimi/recorded_getsures'\n",
    "filename = name + '-' + timestamp + '.move'\n",
    "\n",
    "with open(os.path.join(foldername, filename), 'w') as f:\n",
    "    local_gestures[name].save(f)\n",
    "    \n",
    "print(\"Saved gesture to \" + os.path.join(foldername, filename))    "
   ]
  },
  {
   "cell_type": "markdown",
   "metadata": {},
   "source": [
    "Here are some helper functions."
   ]
  },
  {
   "cell_type": "code",
   "execution_count": 12,
   "metadata": {},
   "outputs": [
    {
     "name": "stdout",
     "output_type": "stream",
     "text": [
      "Setting motors to starting positions {1: 10, 2: -21.599999999999994, 3: 0, 4: -11.85, 5: 5.41}\n"
     ]
    },
    {
     "name": "stderr",
     "output_type": "stream",
     "text": [
      "Exception in thread Thread-20:\n",
      "Traceback (most recent call last):\n",
      "  File \"/Users/rytrose/anaconda3/envs/shimi/lib/python3.7/threading.py\", line 917, in _bootstrap_inner\n",
      "    self.run()\n",
      "  File \"/Users/rytrose/anaconda3/envs/shimi/lib/python3.7/threading.py\", line 865, in run\n",
      "    self._target(*self._args, **self._kwargs)\n",
      "  File \"/Users/rytrose/anaconda3/envs/shimi/lib/python3.7/site-packages/pypot/utils/stoppablethread.py\", line 130, in _wrapped_target\n",
      "    self._target()\n",
      "  File \"/Users/rytrose/anaconda3/envs/shimi/lib/python3.7/site-packages/pypot/utils/stoppablethread.py\", line 205, in run\n",
      "    make_update_loop(self, self._update)\n",
      "  File \"/Users/rytrose/anaconda3/envs/shimi/lib/python3.7/site-packages/pypot/utils/stoppablethread.py\", line 175, in make_update_loop\n",
      "    update_func()\n",
      "  File \"/Users/rytrose/anaconda3/envs/shimi/lib/python3.7/site-packages/pypot/dynamixel/controller.py\", line 59, in update\n",
      "    if self.mode == 'get' else\n",
      "  File \"/Users/rytrose/anaconda3/envs/shimi/lib/python3.7/site-packages/pypot/dynamixel/controller.py\", line 129, in get_register\n",
      "    values = self.io.get_angle_limit(ids)\n",
      "  File \"/Users/rytrose/anaconda3/envs/shimi/lib/python3.7/site-packages/pypot/dynamixel/io/abstract_io.py\", line 358, in my_getter\n",
      "    return self._get_control_value(control, ids, **kwargs)\n",
      "  File \"/Users/rytrose/anaconda3/envs/shimi/lib/python3.7/site-packages/pypot/dynamixel/io/abstract_io.py\", line 413, in _get_control_value\n",
      "    sp = self._send_packet(rp, error_handler=error_handler)\n",
      "  File \"/Users/rytrose/anaconda3/envs/shimi/lib/python3.7/site-packages/pypot/dynamixel/io/abstract_io.py\", line 537, in _send_packet\n",
      "    f(error_handler)\n",
      "  File \"/Users/rytrose/anaconda3/envs/shimi/lib/python3.7/site-packages/pypot/dynamixel/error.py\", line 31, in handle_input_voltage_error\n",
      "    raise NotImplementedError\n",
      "NotImplementedError\n",
      "\n",
      "Exception in thread Thread-22:\n",
      "Traceback (most recent call last):\n",
      "  File \"/Users/rytrose/anaconda3/envs/shimi/lib/python3.7/threading.py\", line 917, in _bootstrap_inner\n",
      "    self.run()\n",
      "  File \"/Users/rytrose/anaconda3/envs/shimi/lib/python3.7/threading.py\", line 865, in run\n",
      "    self._target(*self._args, **self._kwargs)\n",
      "  File \"/Users/rytrose/anaconda3/envs/shimi/lib/python3.7/site-packages/pypot/utils/stoppablethread.py\", line 130, in _wrapped_target\n",
      "    self._target()\n",
      "  File \"/Users/rytrose/anaconda3/envs/shimi/lib/python3.7/site-packages/pypot/utils/stoppablethread.py\", line 205, in run\n",
      "    make_update_loop(self, self._update)\n",
      "  File \"/Users/rytrose/anaconda3/envs/shimi/lib/python3.7/site-packages/pypot/utils/stoppablethread.py\", line 175, in make_update_loop\n",
      "    update_func()\n",
      "  File \"/Users/rytrose/anaconda3/envs/shimi/lib/python3.7/site-packages/pypot/dynamixel/controller.py\", line 59, in update\n",
      "    if self.mode == 'get' else\n",
      "  File \"/Users/rytrose/anaconda3/envs/shimi/lib/python3.7/site-packages/pypot/dynamixel/controller.py\", line 72, in get_register\n",
      "    getter(ids))\n",
      "  File \"/Users/rytrose/anaconda3/envs/shimi/lib/python3.7/site-packages/pypot/dynamixel/io/abstract_io.py\", line 358, in my_getter\n",
      "    return self._get_control_value(control, ids, **kwargs)\n",
      "  File \"/Users/rytrose/anaconda3/envs/shimi/lib/python3.7/site-packages/pypot/dynamixel/io/abstract_io.py\", line 413, in _get_control_value\n",
      "    sp = self._send_packet(rp, error_handler=error_handler)\n",
      "  File \"/Users/rytrose/anaconda3/envs/shimi/lib/python3.7/site-packages/pypot/dynamixel/io/abstract_io.py\", line 537, in _send_packet\n",
      "    f(error_handler)\n",
      "  File \"/Users/rytrose/anaconda3/envs/shimi/lib/python3.7/site-packages/pypot/dynamixel/error.py\", line 31, in handle_input_voltage_error\n",
      "    raise NotImplementedError\n",
      "NotImplementedError\n",
      "\n",
      "Exception in thread Thread-19:\n",
      "Traceback (most recent call last):\n",
      "  File \"/Users/rytrose/anaconda3/envs/shimi/lib/python3.7/threading.py\", line 917, in _bootstrap_inner\n",
      "    self.run()\n",
      "  File \"/Users/rytrose/anaconda3/envs/shimi/lib/python3.7/threading.py\", line 865, in run\n",
      "    self._target(*self._args, **self._kwargs)\n",
      "  File \"/Users/rytrose/anaconda3/envs/shimi/lib/python3.7/site-packages/pypot/utils/stoppablethread.py\", line 130, in _wrapped_target\n",
      "    self._target()\n",
      "  File \"/Users/rytrose/anaconda3/envs/shimi/lib/python3.7/site-packages/pypot/utils/stoppablethread.py\", line 205, in run\n",
      "    make_update_loop(self, self._update)\n",
      "  File \"/Users/rytrose/anaconda3/envs/shimi/lib/python3.7/site-packages/pypot/utils/stoppablethread.py\", line 175, in make_update_loop\n",
      "    update_func()\n",
      "  File \"/Users/rytrose/anaconda3/envs/shimi/lib/python3.7/site-packages/pypot/dynamixel/controller.py\", line 163, in update\n",
      "    self.get_present_position_speed_load(self.working_motors)\n",
      "  File \"/Users/rytrose/anaconda3/envs/shimi/lib/python3.7/site-packages/pypot/dynamixel/controller.py\", line 168, in get_present_position_speed_load\n",
      "    values = self.io.get_present_position_speed_load(ids)\n",
      "  File \"/Users/rytrose/anaconda3/envs/shimi/lib/python3.7/site-packages/pypot/dynamixel/io/abstract_io.py\", line 358, in my_getter\n",
      "    return self._get_control_value(control, ids, **kwargs)\n",
      "  File \"/Users/rytrose/anaconda3/envs/shimi/lib/python3.7/site-packages/pypot/dynamixel/io/abstract_io.py\", line 413, in _get_control_value\n",
      "    sp = self._send_packet(rp, error_handler=error_handler)\n",
      "  File \"/Users/rytrose/anaconda3/envs/shimi/lib/python3.7/site-packages/pypot/dynamixel/io/abstract_io.py\", line 537, in _send_packet\n",
      "    f(error_handler)\n",
      "  File \"/Users/rytrose/anaconda3/envs/shimi/lib/python3.7/site-packages/pypot/dynamixel/error.py\", line 31, in handle_input_voltage_error\n",
      "    raise NotImplementedError\n",
      "NotImplementedError\n",
      "\n",
      "Exception in thread Thread-21:\n",
      "Traceback (most recent call last):\n",
      "  File \"/Users/rytrose/anaconda3/envs/shimi/lib/python3.7/threading.py\", line 917, in _bootstrap_inner\n",
      "    self.run()\n",
      "  File \"/Users/rytrose/anaconda3/envs/shimi/lib/python3.7/threading.py\", line 865, in run\n",
      "    self._target(*self._args, **self._kwargs)\n",
      "  File \"/Users/rytrose/anaconda3/envs/shimi/lib/python3.7/site-packages/pypot/utils/stoppablethread.py\", line 130, in _wrapped_target\n",
      "    self._target()\n",
      "  File \"/Users/rytrose/anaconda3/envs/shimi/lib/python3.7/site-packages/pypot/utils/stoppablethread.py\", line 205, in run\n",
      "    make_update_loop(self, self._update)\n",
      "  File \"/Users/rytrose/anaconda3/envs/shimi/lib/python3.7/site-packages/pypot/utils/stoppablethread.py\", line 175, in make_update_loop\n",
      "    update_func()\n",
      "  File \"/Users/rytrose/anaconda3/envs/shimi/lib/python3.7/site-packages/pypot/dynamixel/controller.py\", line 59, in update\n",
      "    if self.mode == 'get' else\n",
      "  File \"/Users/rytrose/anaconda3/envs/shimi/lib/python3.7/site-packages/pypot/dynamixel/controller.py\", line 72, in get_register\n",
      "    getter(ids))\n",
      "  File \"/Users/rytrose/anaconda3/envs/shimi/lib/python3.7/site-packages/pypot/dynamixel/io/abstract_io.py\", line 358, in my_getter\n",
      "    return self._get_control_value(control, ids, **kwargs)\n",
      "  File \"/Users/rytrose/anaconda3/envs/shimi/lib/python3.7/site-packages/pypot/dynamixel/io/abstract_io.py\", line 413, in _get_control_value\n",
      "    sp = self._send_packet(rp, error_handler=error_handler)\n",
      "  File \"/Users/rytrose/anaconda3/envs/shimi/lib/python3.7/site-packages/pypot/dynamixel/io/abstract_io.py\", line 537, in _send_packet\n",
      "    f(error_handler)\n",
      "  File \"/Users/rytrose/anaconda3/envs/shimi/lib/python3.7/site-packages/pypot/dynamixel/error.py\", line 31, in handle_input_voltage_error\n",
      "    raise NotImplementedError\n",
      "NotImplementedError\n",
      "\n"
     ]
    }
   ],
   "source": [
    "# Puts shimi in a neutral position with motors non-compliant\n",
    "shimi.initial_position()"
   ]
  },
  {
   "cell_type": "markdown",
   "metadata": {},
   "source": [
    "## **Make sure Shimi will not collapse before you run this!!!**"
   ]
  },
  {
   "cell_type": "code",
   "execution_count": 11,
   "metadata": {
    "collapsed": true
   },
   "outputs": [],
   "source": [
    "# Makes the motors compliant\n",
    "shimi.make_compliant()"
   ]
  },
  {
   "cell_type": "code",
   "execution_count": 17,
   "metadata": {},
   "outputs": [
    {
     "ename": "AttributeError",
     "evalue": "'DxlMXMotor' object has no attribute 'get_voltage_limit'",
     "output_type": "error",
     "traceback": [
      "\u001b[0;31m---------------------------------------------------------------------------\u001b[0m",
      "\u001b[0;31mAttributeError\u001b[0m                            Traceback (most recent call last)",
      "\u001b[0;32m<ipython-input-17-d2b10543a8a2>\u001b[0m in \u001b[0;36m<module>\u001b[0;34m()\u001b[0m\n\u001b[1;32m      1\u001b[0m \u001b[0;32mfor\u001b[0m \u001b[0mm\u001b[0m \u001b[0;32min\u001b[0m \u001b[0mshimi\u001b[0m\u001b[0;34m.\u001b[0m\u001b[0mall_motors\u001b[0m\u001b[0;34m:\u001b[0m\u001b[0;34m\u001b[0m\u001b[0m\n\u001b[0;32m----> 2\u001b[0;31m     \u001b[0mprint\u001b[0m\u001b[0;34m(\u001b[0m\u001b[0mm\u001b[0m\u001b[0;34m.\u001b[0m\u001b[0mget_voltage_limit\u001b[0m\u001b[0;34m)\u001b[0m\u001b[0;34m\u001b[0m\u001b[0m\n\u001b[0m",
      "\u001b[0;31mAttributeError\u001b[0m: 'DxlMXMotor' object has no attribute 'get_voltage_limit'"
     ]
    }
   ],
   "source": [
    "for m in shimi.all_motors:\n",
    "    print(m.present_voltage)"
   ]
  },
  {
   "cell_type": "code",
   "execution_count": null,
   "metadata": {
    "collapsed": true
   },
   "outputs": [],
   "source": []
  }
 ],
 "metadata": {
  "kernelspec": {
   "display_name": "Python (shimi)",
   "language": "python",
   "name": "shimi"
  },
  "language_info": {
   "codemirror_mode": {
    "name": "ipython",
    "version": 3
   },
   "file_extension": ".py",
   "mimetype": "text/x-python",
   "name": "python",
   "nbconvert_exporter": "python",
   "pygments_lexer": "ipython3",
   "version": "3.7.0"
  }
 },
 "nbformat": 4,
 "nbformat_minor": 2
}
