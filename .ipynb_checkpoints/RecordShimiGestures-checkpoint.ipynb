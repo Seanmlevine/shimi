{
 "cells": [
  {
   "cell_type": "markdown",
   "metadata": {},
   "source": [
    "# Recording a Gesture for Shimi\n",
    "\n",
    "First, run the cell below to instatiate the shimi object. It should move to its initial positions and then relax.\n",
    "\n",
    "**There's currently an issue where every other time the pypot motor library is run it crashes. Re-run the cell in this case.**"
   ]
  },
  {
   "cell_type": "code",
   "execution_count": 2,
   "metadata": {},
   "outputs": [
    {
     "name": "stdout",
     "output_type": "stream",
     "text": [
      "Setting motors to starting positions {1: 10, 2: -21.599999999999994, 3: 0, 4: -11.85, 5: 5.41}\n"
     ]
    }
   ],
   "source": [
    "# Import some matplolib shortcuts for Jupyter notebook\n",
    "%matplotlib inline\n",
    "\n",
    "import numpy as np\n",
    "import matplotlib.pyplot as plt\n",
    "\n",
    "from shimi import *\n",
    "import time\n",
    "import datetime\n",
    "\n",
    "from copy import deepcopy\n",
    "\n",
    "import os\n",
    "\n",
    "import threading\n",
    "\n",
    "# Load Shimi model. Contains motor definitions and angle limits.\n",
    "shimi = Shimi('config/shimi_robot_model.json')\n",
    "\n",
    "# Allow the motors to be moved by hand.\n",
    "shimi.make_compliant()\n",
    "\n",
    "local_gestures = {}"
   ]
  },
  {
   "cell_type": "markdown",
   "metadata": {},
   "source": [
    "If you need to re-run the first cell, you must first close the connection to the motors by running this cell."
   ]
  },
  {
   "cell_type": "code",
   "execution_count": 16,
   "metadata": {},
   "outputs": [],
   "source": [
    "# Closes the serial connection to the motors\n",
    "shimi.close()"
   ]
  },
  {
   "cell_type": "markdown",
   "metadata": {},
   "source": [
    "The next cell gets a `recorder` object and starts a recording!\n",
    "\n",
    "In the call to `get_recorder()`, you need to provide a list of motors you want to record from. The motors can be referenced as follows:\n",
    "- `shimi.all_motors`\n",
    "  - **This returns a list**, so no need to wrap this attribute when calling `get_recorder()`\n",
    "- `shimi.torso`\n",
    "- `shimi.neck_ud`\n",
    "- `shimi.neck_lr`\n",
    "- `shimi.phone`\n",
    "- `shimi.foot`\n",
    "\n",
    "In the call to `make_recording()`, edit the `wait_time` (time from when you run the cell to when it starts, in **integer** seconds) and the `recording_time` (in seconds, can be float) accordingly."
   ]
  },
  {
   "cell_type": "code",
   "execution_count": null,
   "metadata": {
    "collapsed": true
   },
   "outputs": [],
   "source": [
    "# Get a recorder object for Shimi\n",
    "recorder = shimi.get_recorder(shimi.all_motors)\n",
    "\n",
    "# Make the recording\n",
    "recorder = shimi.make_recording(recorder, wait_time=3, recording_time=10.0)\n",
    "\n",
    "# Plot the recording\n",
    "recorder.move.plot(plt.axes())"
   ]
  },
  {
   "cell_type": "markdown",
   "metadata": {},
   "source": [
    "To play the recording you just made run the following cell."
   ]
  },
  {
   "cell_type": "code",
   "execution_count": null,
   "metadata": {
    "collapsed": true,
    "scrolled": false
   },
   "outputs": [],
   "source": [
    "shimi.play_recordings([recorder.move])"
   ]
  },
  {
   "cell_type": "markdown",
   "metadata": {},
   "source": [
    "If you are happy with that recording, hold onto it by running the following cell, **changing the name in the dictionary the recorder is being assigned to**! This is **only saving the gesture in memory in the python notebook** so if you want to save to disk, look at the next cell."
   ]
  },
  {
   "cell_type": "code",
   "execution_count": null,
   "metadata": {
    "collapsed": true
   },
   "outputs": [],
   "source": [
    "# Change the string here or risk overwriting a previous gesture!!\n",
    "name = 'myGesture'\n",
    "local_gestures[name] = deepcopy(recorder.move)\n",
    "print(\"Saved gesture \" + name + \" in this notebook.\")"
   ]
  },
  {
   "cell_type": "markdown",
   "metadata": {},
   "source": [
    "You can make sure it plays back by running the following cell."
   ]
  },
  {
   "cell_type": "code",
   "execution_count": null,
   "metadata": {
    "collapsed": true
   },
   "outputs": [],
   "source": [
    "shimi.play_recordings([local_gestures[name]])"
   ]
  },
  {
   "cell_type": "markdown",
   "metadata": {},
   "source": [
    "To save the recording to disk, run the following cell. It will save to 'recorded_gestures/name-timestamp.move`."
   ]
  },
  {
   "cell_type": "code",
   "execution_count": null,
   "metadata": {
    "collapsed": true
   },
   "outputs": [],
   "source": [
    "ts = time.time()\n",
    "timestamp = datetime.datetime.fromtimestamp(ts).strftime('%Y-%m-%d_%H:%M:%S')\n",
    "foldername = '/home/nvidia/shimi/recorded_getsures'\n",
    "filename = name + '-' + timestamp + '.move'\n",
    "\n",
    "with open(os.path.join(foldername, filename), 'w') as f:\n",
    "    local_gestures[name].save(f)\n",
    "    \n",
    "print(\"Saved gesture to \" + os.path.join(foldername, filename))    "
   ]
  },
  {
   "cell_type": "markdown",
   "metadata": {},
   "source": [
    "Here are some helper functions."
   ]
  },
  {
   "cell_type": "code",
   "execution_count": 327,
   "metadata": {},
   "outputs": [
    {
     "name": "stdout",
     "output_type": "stream",
     "text": [
      "Setting motors to starting positions {1: 10, 2: -21.599999999999994, 3: 0, 4: -11.85, 5: 5.41}\n"
     ]
    }
   ],
   "source": [
    "# Puts shimi in a neutral position with motors non-compliant\n",
    "shimi.initial_position()"
   ]
  },
  {
   "cell_type": "markdown",
   "metadata": {},
   "source": [
    "## **Make sure Shimi will not collapse before you run this!!!**"
   ]
  },
  {
   "cell_type": "code",
   "execution_count": null,
   "metadata": {
    "collapsed": true
   },
   "outputs": [],
   "source": [
    "# Makes the motors compliant\n",
    "shimi.make_compliant()"
   ]
  },
  {
   "cell_type": "code",
   "execution_count": null,
   "metadata": {},
   "outputs": [],
   "source": [
    "for m in shimi.all_motors:\n",
    "    print(\"speed: {0} | goal_pos: {1} | pres_pos: {2}\".format(m.moving_speed, m.goal_position, m.present_position))"
   ]
  },
  {
   "cell_type": "code",
   "execution_count": 321,
   "metadata": {},
   "outputs": [],
   "source": [
    "min_vel = 20\n",
    "max_vel = 100 # degrees per second\n",
    "\n",
    "def move_with_acceleration(motors, positions, duration, update_freq):\n",
    "    start = time.time()\n",
    "    \n",
    "    while time.time() <= start + duration:\n",
    "        for i, m in enumerate(motors):\n",
    "            rel_pos = abs(duration / 2 - (time.time() - start))\n",
    "            vel = max_vel * (2 * (1.0 - rel_pos / duration) - 1)\n",
    "            m.goal_position = positions[i]\n",
    "            m.moving_speed = vel\n",
    "            print(\"goal: {0}, pres: {1}\".format(vel, m.present_speed))\n",
    "\n",
    "        time.sleep(update_freq)\n",
    "    \n",
    "def move_with_acceleration_io(dxl_io, motors, positions, duration, update_freq):\n",
    "    start = time.time()\n",
    "    starting_positions = dxl_io.get_present_position(motors)\n",
    "    starting_positions = np.array(starting_positions)\n",
    "    positions = np.array(positions)\n",
    "    \n",
    "    top_speeds = 2 * ((abs((positions - starting_positions) / 2) - (min_vel * (duration / 2))) / ((duration / 2) ** 2))\n",
    "    print(\"top speeds\", top_speeds)\n",
    "    \n",
    "    dxl_io.set_moving_speed(dict(zip(motors, [min_vel for _ in range(len(motors))])))\n",
    "    dxl_io.set_goal_position(dict(zip(motors, positions)))\n",
    "\n",
    "    time.sleep(update_freq)\n",
    "        \n",
    "    while time.time() <= start + duration:\n",
    "        rel_pos = abs(duration / 2 - (time.time() - start))\n",
    "        vel = (top_speeds * (2 * (1.0 - rel_pos / duration) - 1)) + min_vel\n",
    "#         print(vel)\n",
    "        dxl_io.set_moving_speed(dict(zip(motors, vel)))\n",
    "#         print(\"goal: {0}, pres: {1}\".format(vel, dxl_io.get_moving_speed(motors)))\n",
    "            \n",
    "        time.sleep(update_freq)\n",
    "    \n",
    "    print(\"done. goal pos: {0} | pres pos: {1}\".format(dxl_io.get_goal_position(motors), dxl_io.get_present_position(motors)))"
   ]
  },
  {
   "cell_type": "code",
   "execution_count": 13,
   "metadata": {},
   "outputs": [
    {
     "name": "stdout",
     "output_type": "stream",
     "text": [
      "goal: 2.1457672119140625e-05, pres: 0.0\n",
      "goal: 2.050459384918213, pres: 0.0\n",
      "goal: 4.075860977172852, pres: 213.408\n",
      "goal: 6.097710132598877, pres: 0.0\n",
      "goal: 8.154571056365967, pres: 0.0\n",
      "goal: 9.795689582824707, pres: 0.0\n",
      "goal: 7.781350612640381, pres: 0.0\n",
      "goal: 5.768928527832031, pres: 0.0\n",
      "goal: 3.757469654083252, pres: 0.0\n",
      "goal: 1.7447495460510254, pres: 0.0\n"
     ]
    }
   ],
   "source": [
    "move_with_acceleration([shimi.neck_ud], [], 3.0, 0.2)"
   ]
  },
  {
   "cell_type": "code",
   "execution_count": 17,
   "metadata": {},
   "outputs": [
    {
     "name": "stdout",
     "output_type": "stream",
     "text": [
      "found: [1, 2, 3, 4, 5]\n"
     ]
    }
   ],
   "source": [
    "ports = pypot.dynamixel.get_available_ports()\n",
    "dxl_io = pypot.dynamixel.DxlIO(ports[0])\n",
    "\n",
    "ids = dxl_io.scan(range(10))\n",
    "print('found:', ids)"
   ]
  },
  {
   "cell_type": "code",
   "execution_count": 329,
   "metadata": {},
   "outputs": [
    {
     "name": "stdout",
     "output_type": "stream",
     "text": [
      "top speeds [21.16]\n",
      "done. goal pos: (-49.98,) | pres pos: (-52.44,)\n"
     ]
    }
   ],
   "source": [
    "move_with_acceleration_io(dxl_io, [2], [-50], 2.0, 0.05)"
   ]
  },
  {
   "cell_type": "code",
   "execution_count": 347,
   "metadata": {},
   "outputs": [
    {
     "name": "stdout",
     "output_type": "stream",
     "text": [
      "top speeds [119.21]\n",
      "top speeds [10.84]\n",
      "done. goal pos: (60.0,) | pres pos: (58.51,)\n",
      "done. goal pos: (-49.98,) | pres pos: (-48.84,)\n",
      "next motions\n",
      "top speeds [77.04861111]\n",
      "top speeds [-4.92444444]\n",
      "done. goal pos: (-100.0,) | pres pos: (-80.31,)\n",
      "done. goal pos: (0.04,) | pres pos: (0.4,)\n",
      "done\n"
     ]
    }
   ],
   "source": [
    "t1_a = threading.Thread(target=lambda: move_with_acceleration_io(dxl_io, [2], [60], 2.0, 0.05))\n",
    "t1_b = threading.Thread(target=lambda: move_with_acceleration_io(dxl_io, [3], [-50], 2.0, 0.05))\n",
    "t1_a.start()\n",
    "t1_b.start()\n",
    "t1_a.join()\n",
    "t1_b.join()\n",
    "print(\"next motions\")\n",
    "t1_a = threading.Thread(target=lambda: move_with_acceleration_io(dxl_io, [2], [-100], 2.4, 0.05))\n",
    "t1_b = threading.Thread(target=lambda: move_with_acceleration_io(dxl_io, [3], [0], 3.0, 0.05))\n",
    "t1_a.start()\n",
    "t1_b.start()\n",
    "t1_a.join()\n",
    "t1_b.join()\n",
    "print(\"done\")"
   ]
  },
  {
   "cell_type": "code",
   "execution_count": null,
   "metadata": {
    "collapsed": true
   },
   "outputs": [],
   "source": []
  }
 ],
 "metadata": {
  "kernelspec": {
   "display_name": "Python (shimi)",
   "language": "python",
   "name": "shimi"
  },
  "language_info": {
   "codemirror_mode": {
    "name": "ipython",
    "version": 3
   },
   "file_extension": ".py",
   "mimetype": "text/x-python",
   "name": "python",
   "nbconvert_exporter": "python",
   "pygments_lexer": "ipython3",
   "version": "3.7.0"
  }
 },
 "nbformat": 4,
 "nbformat_minor": 2
}
