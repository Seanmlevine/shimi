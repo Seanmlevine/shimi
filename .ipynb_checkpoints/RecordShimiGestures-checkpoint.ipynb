{
 "cells": [
  {
   "cell_type": "markdown",
   "metadata": {},
   "source": [
    "# Recording a Gesture for Shimi\n",
    "\n",
    "First, run the cell below to instatiate the shimi object. It should move to its initial positions and then relax."
   ]
  },
  {
   "cell_type": "code",
   "execution_count": 1,
   "metadata": {},
   "outputs": [
    {
     "name": "stdout",
     "output_type": "stream",
     "text": [
      "Connecting on /dev/tty.usbmodem143101\n",
      "Found motors with the following IDs: [1, 2, 3, 4, 5]\n",
      "(OrderedDict([('model', 'MX-28'),\n",
      "              ('firmware', 30),\n",
      "              ('id', 1),\n",
      "              ('baudrate', 1),\n",
      "              ('return delay time', 0),\n",
      "              ('angle limit', (-99.03, 14.64)),\n",
      "              ('highest temperature limit', 80.0),\n",
      "              ('voltage limit', (6.0, 16.0)),\n",
      "              ('max torque', 100.0),\n",
      "              ('status return level', 'always'),\n",
      "              ('alarm LED', ('Overload Error', 'Overheating Error')),\n",
      "              ('alarm shutdown', ('Overload Error', 'Overheating Error')),\n",
      "              ('torque_enable', False),\n",
      "              ('LED', False),\n",
      "              ('pid gain', (0.0, 0.0, 4.0)),\n",
      "              ('goal position', 9.98),\n",
      "              ('moving speed', 2.736),\n",
      "              ('torque limit', 100.0),\n",
      "              ('present position', 15.08),\n",
      "              ('present speed', 0.0),\n",
      "              ('present load', 0.0),\n",
      "              ('present voltage', 8.0),\n",
      "              ('present temperature', 47.0),\n",
      "              ('moving', False)]),\n",
      " OrderedDict([('model', 'MX-28'),\n",
      "              ('firmware', 29),\n",
      "              ('id', 2),\n",
      "              ('baudrate', 1),\n",
      "              ('return delay time', 0),\n",
      "              ('angle limit', (-111.6, 68.44)),\n",
      "              ('highest temperature limit', 80.0),\n",
      "              ('voltage limit', (6.0, 16.0)),\n",
      "              ('max torque', 100.0),\n",
      "              ('status return level', 'always'),\n",
      "              ('alarm LED', ('Overload Error', 'Overheating Error')),\n",
      "              ('alarm shutdown', ('Overload Error', 'Overheating Error')),\n",
      "              ('torque_enable', False),\n",
      "              ('LED', False),\n",
      "              ('pid gain', (0.128, 0.0, 0.0)),\n",
      "              ('goal position', -21.58),\n",
      "              ('moving speed', 2.052),\n",
      "              ('torque limit', 100.0),\n",
      "              ('present position', -23.96),\n",
      "              ('present speed', 0.0),\n",
      "              ('present load', 0.0),\n",
      "              ('present voltage', 12.100000000000001),\n",
      "              ('present temperature', 49.0),\n",
      "              ('moving', False)]),\n",
      " OrderedDict([('model', 'MX-28'),\n",
      "              ('firmware', 30),\n",
      "              ('id', 3),\n",
      "              ('baudrate', 1),\n",
      "              ('return delay time', 0),\n",
      "              ('angle limit', (-50.42, 9.8)),\n",
      "              ('highest temperature limit', 80.0),\n",
      "              ('voltage limit', (6.0, 16.0)),\n",
      "              ('max torque', 100.0),\n",
      "              ('status return level', 'always'),\n",
      "              ('alarm LED', ('Overload Error', 'Overheating Error')),\n",
      "              ('alarm shutdown', ('Overload Error', 'Overheating Error')),\n",
      "              ('torque_enable', False),\n",
      "              ('LED', False),\n",
      "              ('pid gain', (0.0, 0.0, 4.0)),\n",
      "              ('goal position', 0.04),\n",
      "              ('moving speed', 9.576),\n",
      "              ('torque limit', 100.0),\n",
      "              ('present position', 10.59),\n",
      "              ('present speed', 0.0),\n",
      "              ('present load', 0.0),\n",
      "              ('present voltage', 7.9),\n",
      "              ('present temperature', 47.0),\n",
      "              ('moving', False)]),\n",
      " OrderedDict([('model', 'MX-28'),\n",
      "              ('firmware', 30),\n",
      "              ('id', 4),\n",
      "              ('baudrate', 1),\n",
      "              ('return delay time', 0),\n",
      "              ('angle limit', (-180.0, 180.0)),\n",
      "              ('highest temperature limit', 80.0),\n",
      "              ('voltage limit', (6.0, 16.0)),\n",
      "              ('max torque', 100.0),\n",
      "              ('status return level', 'always'),\n",
      "              ('alarm LED', ('Overload Error', 'Overheating Error')),\n",
      "              ('alarm shutdown', ('Overload Error', 'Overheating Error')),\n",
      "              ('torque_enable', False),\n",
      "              ('LED', False),\n",
      "              ('pid gain', (0.0, 0.0, 4.0)),\n",
      "              ('goal position', -11.82),\n",
      "              ('moving speed', 0.684),\n",
      "              ('torque limit', 100.0),\n",
      "              ('present position', -12.35),\n",
      "              ('present speed', 0.0),\n",
      "              ('present load', 0.0),\n",
      "              ('present voltage', 7.9),\n",
      "              ('present temperature', 47.0),\n",
      "              ('moving', False)]),\n",
      " OrderedDict([('model', 'MX-28'),\n",
      "              ('firmware', 30),\n",
      "              ('id', 5),\n",
      "              ('baudrate', 1),\n",
      "              ('return delay time', 0),\n",
      "              ('angle limit', (5.41, 21.14)),\n",
      "              ('highest temperature limit', 80.0),\n",
      "              ('voltage limit', (6.0, 16.0)),\n",
      "              ('max torque', 100.0),\n",
      "              ('status return level', 'always'),\n",
      "              ('alarm LED', ('Overload Error', 'Overheating Error')),\n",
      "              ('alarm shutdown', ('Overload Error', 'Overheating Error')),\n",
      "              ('torque_enable', False),\n",
      "              ('LED', False),\n",
      "              ('pid gain', (0.0, 0.0, 4.0)),\n",
      "              ('goal position', 5.41),\n",
      "              ('moving speed', 0.0),\n",
      "              ('torque limit', 100.0),\n",
      "              ('present position', 5.14),\n",
      "              ('present speed', 0.0),\n",
      "              ('present load', 0.0),\n",
      "              ('present voltage', 8.4),\n",
      "              ('present temperature', 44.0),\n",
      "              ('moving', False)]))\n",
      "Setting motors to starting positions:\n",
      "{1: 10.0, 2: -21.6, 3: 0.0, 4: -11.85, 5: 5.41}\n"
     ]
    }
   ],
   "source": [
    "# Import some matplolib shortcuts for Jupyter notebook\n",
    "%matplotlib inline\n",
    "\n",
    "import numpy as np\n",
    "import matplotlib.pyplot as plt\n",
    "\n",
    "from shimi import *\n",
    "from motion.move import *\n",
    "from config.definitions import *\n",
    "from motion.recorder import *\n",
    "from motion.playback import *\n",
    "from audio.audio import *\n",
    "from posenet.posenet import *\n",
    "\n",
    "import time\n",
    "import datetime\n",
    "\n",
    "from copy import deepcopy\n",
    "\n",
    "import os\n",
    "\n",
    "import threading\n",
    "\n",
    "# Load Shimi\n",
    "shimi = Shimi()\n",
    "\n",
    "local_gestures = {}"
   ]
  },
  {
   "cell_type": "markdown",
   "metadata": {},
   "source": [
    "The cell below defines the recorder object. The first parameter is a reference to the motor controller, the second is a **list** of motor ids, referenced by a convenience property on `shimi`. The options are as follows:\n",
    "* `shimi.torso`\n",
    "* `shimi.neck_lr`\n",
    "* `shimi.neck_ud`\n",
    "* `shimi.phone`\n",
    "* `shimi.foot`\n",
    "* `shimi.all_motors`: this **returns a list**, so you don't need to wrap it in one in this call\n",
    "\n",
    "\n",
    "The final parameter is the duration for which you want to record."
   ]
  },
  {
   "cell_type": "code",
   "execution_count": null,
   "metadata": {
    "collapsed": true
   },
   "outputs": [],
   "source": [
    "r = Recorder(shimi, shimi.all_motors, 34.0)\n",
    "r1 = Recorder(shimi, shimi.all_motors, 3.0)"
   ]
  },
  {
   "cell_type": "markdown",
   "metadata": {},
   "source": [
    "This starts a recording. It will count down from 3 to let you know when the recording starts, then move Shimi as you want it to move. **The first thing this call does is relax the motors, so be sure it doesn't collapse on itself when you call this.**"
   ]
  },
  {
   "cell_type": "code",
   "execution_count": null,
   "metadata": {},
   "outputs": [],
   "source": [
    "r.record()\n",
    "r.plot(plt.axes())"
   ]
  },
  {
   "cell_type": "markdown",
   "metadata": {},
   "source": [
    "Then, run this to play back the recorded gesture."
   ]
  },
  {
   "cell_type": "code",
   "execution_count": null,
   "metadata": {},
   "outputs": [],
   "source": [
    "r.play(plt.axes())"
   ]
  },
  {
   "cell_type": "markdown",
   "metadata": {},
   "source": [
    "### Here are some helper functions."
   ]
  },
  {
   "cell_type": "code",
   "execution_count": null,
   "metadata": {},
   "outputs": [],
   "source": [
    "# Puts shimi in a neutral position with motors non-compliant\n",
    "shimi.initial_position()"
   ]
  },
  {
   "cell_type": "markdown",
   "metadata": {},
   "source": [
    "## **Make sure Shimi will not collapse before you run this!!!**"
   ]
  },
  {
   "cell_type": "code",
   "execution_count": null,
   "metadata": {
    "collapsed": true
   },
   "outputs": [],
   "source": [
    "# Makes the motors compliant\n",
    "shimi.disable_torque()"
   ]
  },
  {
   "cell_type": "markdown",
   "metadata": {},
   "source": [
    "### Here's a hard-coded demo of Shimi dancing to Hey Ya"
   ]
  },
  {
   "cell_type": "code",
   "execution_count": null,
   "metadata": {},
   "outputs": [],
   "source": [
    "play_outkast(shimi)"
   ]
  },
  {
   "cell_type": "code",
   "execution_count": null,
   "metadata": {
    "collapsed": true
   },
   "outputs": [],
   "source": [
    "play_opera(shimi)"
   ]
  },
  {
   "cell_type": "code",
   "execution_count": null,
   "metadata": {
    "collapsed": true
   },
   "outputs": [],
   "source": [
    "p = PoseNet(shimi)"
   ]
  },
  {
   "cell_type": "code",
   "execution_count": null,
   "metadata": {
    "collapsed": true
   },
   "outputs": [],
   "source": [
    "p.record()"
   ]
  },
  {
   "cell_type": "code",
   "execution_count": null,
   "metadata": {
    "collapsed": true
   },
   "outputs": [],
   "source": [
    "p.play(None, plt.axes())"
   ]
  },
  {
   "cell_type": "code",
   "execution_count": null,
   "metadata": {
    "collapsed": true
   },
   "outputs": [],
   "source": [
    "p.stop_posenet()"
   ]
  },
  {
   "cell_type": "code",
   "execution_count": null,
   "metadata": {
    "collapsed": true
   },
   "outputs": [],
   "source": [
    "m = LinearMove(shimi, shimi.torso, 1.0, 1.0, normalized_positions=True)\n",
    "m.start()"
   ]
  },
  {
   "cell_type": "code",
   "execution_count": null,
   "metadata": {
    "collapsed": true
   },
   "outputs": [],
   "source": [
    "playback(shimi, r.motors, r.dur, r.timestamps, r.positions, r.velocities, plt.axes())"
   ]
  },
  {
   "cell_type": "code",
   "execution_count": null,
   "metadata": {},
   "outputs": [],
   "source": [
    "r.append_recording(r1)"
   ]
  },
  {
   "cell_type": "code",
   "execution_count": null,
   "metadata": {
    "collapsed": true
   },
   "outputs": [],
   "source": []
  }
 ],
 "metadata": {
  "kernelspec": {
   "display_name": "Python (shimi)",
   "language": "python",
   "name": "shimi"
  },
  "language_info": {
   "codemirror_mode": {
    "name": "ipython",
    "version": 3
   },
   "file_extension": ".py",
   "mimetype": "text/x-python",
   "name": "python",
   "nbconvert_exporter": "python",
   "pygments_lexer": "ipython3",
   "version": "3.7.0"
  }
 },
 "nbformat": 4,
 "nbformat_minor": 2
}
