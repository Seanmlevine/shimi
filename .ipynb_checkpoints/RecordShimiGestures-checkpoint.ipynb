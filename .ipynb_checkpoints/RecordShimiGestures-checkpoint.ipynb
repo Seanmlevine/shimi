{
 "cells": [
  {
   "cell_type": "markdown",
   "metadata": {},
   "source": [
    "# Recording a Gesture for Shimi\n",
    "\n",
    "First, run the cell below to instatiate the shimi object. It should move to its initial positions and then relax."
   ]
  },
  {
   "cell_type": "code",
   "execution_count": 1,
   "metadata": {},
   "outputs": [
    {
     "name": "stdout",
     "output_type": "stream",
     "text": [
      "Connecting on /dev/tty.usbmodem143101\n",
      "Found motors with the following IDs: [1, 2, 3, 4, 5]\n",
      "(OrderedDict([('model', 'MX-28'),\n",
      "              ('firmware', 30),\n",
      "              ('id', 1),\n",
      "              ('baudrate', 1),\n",
      "              ('return delay time', 0),\n",
      "              ('angle limit', (-99.03, 14.64)),\n",
      "              ('highest temperature limit', 80.0),\n",
      "              ('voltage limit', (6.0, 16.0)),\n",
      "              ('max torque', 100.0),\n",
      "              ('status return level', 'always'),\n",
      "              ('alarm LED', ('Overload Error', 'Overheating Error')),\n",
      "              ('alarm shutdown', ('Overload Error', 'Overheating Error')),\n",
      "              ('torque_enable', True),\n",
      "              ('LED', False),\n",
      "              ('pid gain', (0.0, 0.0, 4.0)),\n",
      "              ('goal position', 14.64),\n",
      "              ('moving speed', 0.684),\n",
      "              ('torque limit', 100.0),\n",
      "              ('present position', 15.25),\n",
      "              ('present speed', 0.0),\n",
      "              ('present load', 5.5),\n",
      "              ('present voltage', 8.200000000000001),\n",
      "              ('present temperature', 45.0),\n",
      "              ('moving', False)]),\n",
      " OrderedDict([('model', 'MX-28'),\n",
      "              ('firmware', 29),\n",
      "              ('id', 2),\n",
      "              ('baudrate', 1),\n",
      "              ('return delay time', 0),\n",
      "              ('angle limit', (-111.6, 68.44)),\n",
      "              ('highest temperature limit', 80.0),\n",
      "              ('voltage limit', (6.0, 16.0)),\n",
      "              ('max torque', 100.0),\n",
      "              ('status return level', 'always'),\n",
      "              ('alarm LED', ('Overload Error', 'Overheating Error')),\n",
      "              ('alarm shutdown', ('Overload Error', 'Overheating Error')),\n",
      "              ('torque_enable', True),\n",
      "              ('LED', False),\n",
      "              ('pid gain', (0.128, 0.0, 0.0)),\n",
      "              ('goal position', -23.69),\n",
      "              ('moving speed', 0.684),\n",
      "              ('torque limit', 100.0),\n",
      "              ('present position', -24.22),\n",
      "              ('present speed', 0.0),\n",
      "              ('present load', -4.7),\n",
      "              ('present voltage', 12.200000000000001),\n",
      "              ('present temperature', 45.0),\n",
      "              ('moving', False)]),\n",
      " OrderedDict([('model', 'MX-28'),\n",
      "              ('firmware', 30),\n",
      "              ('id', 3),\n",
      "              ('baudrate', 1),\n",
      "              ('return delay time', 0),\n",
      "              ('angle limit', (-50.42, 9.8)),\n",
      "              ('highest temperature limit', 80.0),\n",
      "              ('voltage limit', (6.0, 16.0)),\n",
      "              ('max torque', 100.0),\n",
      "              ('status return level', 'always'),\n",
      "              ('alarm LED', ('Overload Error', 'Overheating Error')),\n",
      "              ('alarm shutdown', ('Overload Error', 'Overheating Error')),\n",
      "              ('torque_enable', True),\n",
      "              ('LED', False),\n",
      "              ('pid gain', (0.0, 0.0, 4.0)),\n",
      "              ('goal position', 4.62),\n",
      "              ('moving speed', 0.684),\n",
      "              ('torque limit', 100.0),\n",
      "              ('present position', 5.32),\n",
      "              ('present speed', 0.0),\n",
      "              ('present load', 6.3),\n",
      "              ('present voltage', 8.4),\n",
      "              ('present temperature', 44.0),\n",
      "              ('moving', False)]),\n",
      " OrderedDict([('model', 'MX-28'),\n",
      "              ('firmware', 30),\n",
      "              ('id', 4),\n",
      "              ('baudrate', 1),\n",
      "              ('return delay time', 0),\n",
      "              ('angle limit', (-180.0, 180.0)),\n",
      "              ('highest temperature limit', 80.0),\n",
      "              ('voltage limit', (6.0, 16.0)),\n",
      "              ('max torque', 100.0),\n",
      "              ('status return level', 'always'),\n",
      "              ('alarm LED', ('Overload Error', 'Overheating Error')),\n",
      "              ('alarm shutdown', ('Overload Error', 'Overheating Error')),\n",
      "              ('torque_enable', True),\n",
      "              ('LED', False),\n",
      "              ('pid gain', (0.0, 0.0, 4.0)),\n",
      "              ('goal position', -11.82),\n",
      "              ('moving speed', 0.0),\n",
      "              ('torque limit', 100.0),\n",
      "              ('present position', -11.82),\n",
      "              ('present speed', 0.0),\n",
      "              ('present load', 0.0),\n",
      "              ('present voltage', 9.0),\n",
      "              ('present temperature', 41.0),\n",
      "              ('moving', False)]),\n",
      " OrderedDict([('model', 'MX-28'),\n",
      "              ('firmware', 30),\n",
      "              ('id', 5),\n",
      "              ('baudrate', 1),\n",
      "              ('return delay time', 0),\n",
      "              ('angle limit', (5.41, 21.14)),\n",
      "              ('highest temperature limit', 80.0),\n",
      "              ('voltage limit', (6.0, 16.0)),\n",
      "              ('max torque', 100.0),\n",
      "              ('status return level', 'always'),\n",
      "              ('alarm LED', ('Overload Error', 'Overheating Error')),\n",
      "              ('alarm shutdown', ('Overload Error', 'Overheating Error')),\n",
      "              ('torque_enable', True),\n",
      "              ('LED', False),\n",
      "              ('pid gain', (0.0, 0.0, 4.0)),\n",
      "              ('goal position', 5.41),\n",
      "              ('moving speed', 0.684),\n",
      "              ('torque limit', 100.0),\n",
      "              ('present position', 5.49),\n",
      "              ('present speed', 0.0),\n",
      "              ('present load', 0.8),\n",
      "              ('present voltage', 9.3),\n",
      "              ('present temperature', 40.0),\n",
      "              ('moving', False)]))\n",
      "Setting motors to starting positions:\n",
      "{1: 10.0, 2: -21.6, 3: 0.0, 4: -11.85, 5: 5.41}\n"
     ]
    }
   ],
   "source": [
    "# Import some matplolib shortcuts for Jupyter notebook\n",
    "%matplotlib inline\n",
    "\n",
    "import numpy as np\n",
    "import matplotlib.pyplot as plt\n",
    "\n",
    "from shimi import *\n",
    "from motion.move import *\n",
    "from config.definitions import *\n",
    "from motion.recorder import *\n",
    "from motion.playback import *\n",
    "from audio.audio import *\n",
    "from audio.play_song_demo import *\n",
    "from posenet.posenet import *\n",
    "\n",
    "import time\n",
    "import datetime\n",
    "\n",
    "from copy import deepcopy\n",
    "\n",
    "import os\n",
    "\n",
    "import threading\n",
    "\n",
    "# Load Shimi\n",
    "shimi = Shimi()\n",
    "\n",
    "local_gestures = {}"
   ]
  },
  {
   "cell_type": "markdown",
   "metadata": {},
   "source": [
    "The cell below defines the recorder object. The first parameter is a reference to the motor controller, the second is a **list** of motor ids, referenced by a convenience property on `shimi`. The options are as follows:\n",
    "* `shimi.torso`\n",
    "* `shimi.neck_lr`\n",
    "* `shimi.neck_ud`\n",
    "* `shimi.phone`\n",
    "* `shimi.foot`\n",
    "* `shimi.all_motors`: this **returns a list**, so you don't need to wrap it in one in this call\n",
    "\n",
    "\n",
    "The final parameter is the duration for which you want to record."
   ]
  },
  {
   "cell_type": "code",
   "execution_count": null,
   "metadata": {},
   "outputs": [],
   "source": [
    "r = Recorder(shimi, [shimi.foot], 5.0)"
   ]
  },
  {
   "cell_type": "markdown",
   "metadata": {},
   "source": [
    "This starts a recording. It will count down from 3 to let you know when the recording starts, then move Shimi as you want it to move. **The first thing this call does is relax the motors, so be sure it doesn't collapse on itself when you call this.**"
   ]
  },
  {
   "cell_type": "code",
   "execution_count": null,
   "metadata": {
    "scrolled": false
   },
   "outputs": [],
   "source": [
    "r.record()\n",
    "r.plot(plt.axes())"
   ]
  },
  {
   "cell_type": "markdown",
   "metadata": {},
   "source": [
    "Then, run this to play back the recorded gesture."
   ]
  },
  {
   "cell_type": "code",
   "execution_count": null,
   "metadata": {},
   "outputs": [],
   "source": [
    "r.play(plt.axes())"
   ]
  },
  {
   "cell_type": "code",
   "execution_count": null,
   "metadata": {},
   "outputs": [],
   "source": [
    "r.plot(plt.axes())"
   ]
  },
  {
   "cell_type": "code",
   "execution_count": null,
   "metadata": {},
   "outputs": [],
   "source": [
    "r.trim(0.4, end=\"front\")"
   ]
  },
  {
   "cell_type": "markdown",
   "metadata": {},
   "source": [
    "### Here are some helper functions."
   ]
  },
  {
   "cell_type": "code",
   "execution_count": 3,
   "metadata": {},
   "outputs": [
    {
     "name": "stdout",
     "output_type": "stream",
     "text": [
      "Setting motors to starting positions:\n",
      "{1: 10.0, 2: -21.6, 3: 0.0, 4: -11.85, 5: 5.41}\n"
     ]
    }
   ],
   "source": [
    "# Puts shimi in a neutral position with motors non-compliant\n",
    "shimi.initial_position()"
   ]
  },
  {
   "cell_type": "markdown",
   "metadata": {},
   "source": [
    "## **Make sure Shimi will not collapse before you run this!!!**"
   ]
  },
  {
   "cell_type": "code",
   "execution_count": null,
   "metadata": {
    "collapsed": true
   },
   "outputs": [],
   "source": [
    "# Makes the motors compliant\n",
    "shimi.disable_torque()"
   ]
  },
  {
   "cell_type": "markdown",
   "metadata": {},
   "source": [
    "### Here's a hard-coded demo of Shimi dancing to Hey Ya"
   ]
  },
  {
   "cell_type": "code",
   "execution_count": null,
   "metadata": {
    "collapsed": true
   },
   "outputs": [],
   "source": [
    "play_outkast(shimi)"
   ]
  },
  {
   "cell_type": "code",
   "execution_count": null,
   "metadata": {
    "collapsed": true
   },
   "outputs": [],
   "source": [
    "play_opera(shimi)"
   ]
  },
  {
   "cell_type": "code",
   "execution_count": null,
   "metadata": {
    "collapsed": true
   },
   "outputs": [],
   "source": [
    "p = PoseNet(shimi)"
   ]
  },
  {
   "cell_type": "code",
   "execution_count": null,
   "metadata": {
    "collapsed": true
   },
   "outputs": [],
   "source": [
    "p.record()"
   ]
  },
  {
   "cell_type": "code",
   "execution_count": null,
   "metadata": {
    "collapsed": true
   },
   "outputs": [],
   "source": [
    "p.play(None, plt.axes())"
   ]
  },
  {
   "cell_type": "code",
   "execution_count": null,
   "metadata": {
    "collapsed": true
   },
   "outputs": [],
   "source": [
    "p.stop_posenet()"
   ]
  },
  {
   "cell_type": "code",
   "execution_count": null,
   "metadata": {
    "collapsed": true
   },
   "outputs": [],
   "source": [
    "m = LinearMove(shimi, shimi.torso, 1.0, 1.0, normalized_positions=True)\n",
    "m.start()"
   ]
  },
  {
   "cell_type": "code",
   "execution_count": null,
   "metadata": {
    "collapsed": true
   },
   "outputs": [],
   "source": [
    "playback(shimi, r.motors, r.dur, r.timestamps, r.positions, r.velocities, plt.axes())"
   ]
  },
  {
   "cell_type": "code",
   "execution_count": null,
   "metadata": {
    "collapsed": true
   },
   "outputs": [],
   "source": [
    "r.append_recording(r1)"
   ]
  },
  {
   "cell_type": "code",
   "execution_count": null,
   "metadata": {
    "collapsed": true
   },
   "outputs": [],
   "source": [
    "r.save(\"opera4\")"
   ]
  },
  {
   "cell_type": "code",
   "execution_count": null,
   "metadata": {},
   "outputs": [],
   "source": [
    "r = load_recorder(shimi, \"opera3\")"
   ]
  },
  {
   "cell_type": "code",
   "execution_count": null,
   "metadata": {},
   "outputs": [],
   "source": [
    "r.append_recording(load_recorder(shimi, \"bow\"))"
   ]
  },
  {
   "cell_type": "code",
   "execution_count": null,
   "metadata": {},
   "outputs": [],
   "source": [
    "r.append_recording(r2)"
   ]
  },
  {
   "cell_type": "code",
   "execution_count": 2,
   "metadata": {},
   "outputs": [
    {
     "name": "stdout",
     "output_type": "stream",
     "text": [
      "Microphone with name \"Built-in Microphone\" found for `Microphone(device_index=0)`\n",
      "Microphone with name \"Built-in Output\" found for `Microphone(device_index=1)`\n",
      "Microphone with name \"ReSpeaker 4 Mic Array (UAC1.0)\" found for `Microphone(device_index=2)`\n",
      "Microphone with name \"Soundflower (2ch)\" found for `Microphone(device_index=3)`\n",
      "Microphone with name \"Soundflower (64ch)\" found for `Microphone(device_index=4)`\n",
      "Please be quiet for calibration...\n",
      "...done calibrating.\n",
      "Playing opera...\n",
      "Setting positions {1: 5.968391122337499, 3: -0.6206667026987447, 2: -23.841890938600024, 5: 3.7489768141641258}\n",
      "Setting positions {1: -48.29198653684887, 3: -43.852250541702965, 2: -20.557487094738754, 5: 6.0913290900650265}\n",
      "Setting positions {5: 4.06456268294106}\n",
      "Didn't sleep.\n",
      "Setting positions {5: 20.716325999249044}\n",
      "Setting positions {3: 11.767510724228721}\n",
      "Setting positions {1: 6.053073748299456}\n",
      "Setting positions {2: -24.091181046185255}\n",
      "Setting positions {3: -14.10128324421871}\n",
      "Setting positions {5: 4.378932264370167}\n",
      "Setting positions {1: 3.6753178596496094}\n",
      "Setting positions {3: -12.785996027805396}\n",
      "Setting positions {2: 2.422696818107233}\n",
      "Setting positions {1: 6.627286167398983}\n",
      "Setting positions {3: -12.850995590942908}\n",
      "Setting positions {3: -4.626464373888022}\n",
      "Setting positions {5: 5.8811573784617615}\n",
      "Setting positions {3: -5.450629604923227}\n",
      "Setting positions {1: 1.242728704656698}\n",
      "Setting positions {3: -5.4472641845413925}\n",
      "Setting positions {3: -34.69988137535873}\n",
      "Setting positions {5: 3.578762805726961}\n",
      "Setting positions {1: 5.116496446233941}\n",
      "Setting positions {3: -4.5474894872422045}\n",
      "Setting positions {1: -3.1355145164961056}\n",
      "Setting positions {5: 19.92864682539731}\n",
      "Setting positions {3: -40.30319391155751}\n",
      "Setting positions {1: 5.2682596866668385}\n",
      "Setting positions {3: -6.160531563376955}\n",
      "Setting positions {2: 1.8416019625935773}\n",
      "Setting positions {1: -2.9376121749001216}\n",
      "Setting positions {2: 6.35749182100654}\n",
      "Setting positions {3: -48.11088532287834}\n",
      "Setting positions {1: 11.988491971857757}\n",
      "Setting positions {5: 3.1131020869850254}\n",
      "Setting positions {2: -47.915763329445404}\n",
      "Setting positions {3: 2.393749406511861}\n",
      "Setting positions {1: 1.2312995531811064}\n",
      "Setting positions {5: 5.881830363701174}\n",
      "Setting positions {3: -27.323187257030312}\n",
      "Setting positions {1: 4.848869435236052}\n",
      "Setting positions {3: -2.034714114228559}\n",
      "Setting positions {5: 4.089014158056772}\n",
      "Setting positions {1: -2.1252079389494662}\n",
      "Setting positions {3: -28.516948179147512}\n",
      "Setting positions {1: 5.008448473738972}\n",
      "Setting positions {3: -0.18601690662765435}\n",
      "Setting positions {5: 20.77561006711311}\n",
      "Setting positions {1: -4.308445176159677}\n",
      "Setting positions {3: -51.35461865685434}\n",
      "Setting positions {2: -23.810110748443005}\n",
      "Setting positions {1: 15.484482023077701}\n",
      "Setting positions {3: -0.5517385355098976}\n",
      "Setting positions {1: 3.6768982895821485}\n",
      "Setting positions {5: 3.6878536370547947}\n",
      "Setting positions {2: -24.21527192615445}\n",
      "Setting positions {3: -22.229869717469036}\n",
      "Setting positions {2: -1.6564738392704401}\n",
      "Setting positions {3: -0.13636051762845902}\n",
      "Setting positions {1: 13.115366342306396}\n",
      "Setting positions {3: -32.348806973952655}\n",
      "Setting positions {3: -32.072819116253584}\n",
      "Setting positions {5: 5.5117592184775015}\n",
      "Setting positions {3: -40.28833581144642}\n",
      "Setting positions {2: -37.980312571290554}\n",
      "Setting positions {3: -37.100743832238855}\n",
      "Setting positions {5: 4.186488213101006}\n",
      "Setting positions {3: -38.35392627454511}\n",
      "Setting positions {1: 0.38191842967411593}\n",
      "Setting positions {3: 3.9839566474964516}\n",
      "Setting positions {5: 22.036813787666123}\n",
      "Setting positions {3: -29.73791149801249}\n",
      "Setting positions {2: -36.56309885593225}\n",
      "Setting positions {1: 13.164125876244377}\n",
      "Setting positions {2: -40.061779284836696}\n",
      "Setting positions {5: 21.033240562325503}\n",
      "Setting positions {3: -2.1192066202175464}\n",
      "Setting positions {2: 10.721826896606373}\n",
      "Setting positions {3: -45.4125192748376}\n",
      "Setting positions {5: 20.964269357561793}\n",
      "Setting positions {5: 3.2589966068308676}\n",
      "Setting positions {3: -12.345362556118149}\n",
      "Setting positions {1: 2.9291429344943984}\n",
      "Setting positions {2: -29.327699329961174}\n",
      "Setting positions {5: 24.093030019360704}\n",
      "Setting positions {3: -22.87993945082335}\n",
      "Setting positions {1: 8.064040859397096}\n",
      "Setting positions {3: -6.363355712795899, 2: -24.95916683238181}\n",
      "Setting positions {1: -1.768710939156137}\n",
      "Setting positions {2: -44.935456353267014}\n",
      "Setting positions {3: -10.554078030421035}\n",
      "Setting positions {3: 6.515002430534903}\n",
      "Setting positions {3: -25.58563903099361}\n",
      "Setting positions {1: -1.8045438543002164}\n",
      "Setting positions {1: -2.2223243956068037}\n",
      "Setting positions {5: 4.1640693817414185}\n",
      "Setting positions {3: -4.320551714587059}\n",
      "Setting positions {2: -1.4673613348976209}\n",
      "Setting positions {1: 0.7038857430980686}\n",
      "Setting positions {3: -35.63246580216247}\n",
      "Setting positions {3: 0.9311982928889391}\n",
      "Setting positions {1: -4.208328547464428}\n",
      "Setting positions {2: -39.89749801112351}\n",
      "Setting positions {5: 5.40137995968398}\n",
      "Setting positions {3: -29.237723492301964}\n",
      "Setting positions {1: 4.068544143914913}\n",
      "Setting positions {3: -4.11355580797676}\n",
      "Setting positions {5: 3.983202153509165}\n",
      "Setting positions {3: -38.5450702180188}\n",
      "Setting positions {5: 22.157876738654622}\n",
      "Setting positions {2: 4.837015880257017}\n",
      "Setting positions {3: -17.895440069247364}\n",
      "Setting positions {3: -42.43068230662671}\n",
      "Setting positions {1: 2.7191068265021974}\n",
      "Setting positions {3: -16.880072604679484}\n",
      "Setting positions {3: -48.65559078336033}\n",
      "Setting positions {1: 6.130107549510789}\n",
      "Setting positions {2: -33.0785540656726}\n",
      "Setting positions {3: -13.496628541318998}\n",
      "Setting positions {5: 21.398920535848454}\n",
      "Setting positions {5: 21.653287565432482}\n",
      "Setting positions {3: -43.56562775437307}\n",
      "Setting positions {1: -0.3201440710652645}\n",
      "Setting positions {2: 13.00713730101368}\n",
      "Setting positions {5: 4.5684460395259014}\n",
      "Setting positions {3: -24.397961026168257}\n",
      "Setting positions {3: -50.53359550423082}\n",
      "Setting positions {3: -31.360229906828877}\n",
      "Setting positions {3: -48.98677217850624}\n",
      "Setting positions {1: 12.734705921320183}\n",
      "Setting positions {3: -4.122786766521856}\n",
      "Setting positions {2: -23.716805420945327}\n",
      "Setting positions {5: 5.402390459554916}\n",
      "Setting positions {1: 3.3414600086201105}\n",
      "Setting positions {1: 6.076992989926742, 3: -47.543944776697735}\n",
      "Setting positions {2: -20.49688881125404}\n",
      "Setting positions {1: -49.57871821912599}\n",
      "Setting positions {2: -21.35846192067203}\n",
      "Setting positions {2: -15.13476821535446}\n",
      "Setting positions {3: -13.307250308606775}\n",
      "Setting positions {3: -50.93328781458635}\n",
      "Setting positions {1: 14.620400379998442}\n",
      "Setting positions {2: -24.994162253824552}\n",
      "Setting positions {3: 3.1785562002497083}\n",
      "Setting positions {3: 1.699910998256666}\n",
      "Setting positions {2: -23.698290924339158}\n",
      "Setting positions {3: 4.586201788223255}\n",
      "Setting motors to starting positions:\n",
      "{1: 10.0, 2: -21.6, 3: 0.0, 4: -11.85, 5: 5.41}\n"
     ]
    },
    {
     "data": {
      "text/plain": [
       "<audio.play_song_demo.PlaySongDemoOnce at 0x1a20b63898>"
      ]
     },
     "execution_count": 2,
     "metadata": {},
     "output_type": "execute_result"
    }
   ],
   "source": [
    "PlaySongDemoOnce(shimi)"
   ]
  },
  {
   "cell_type": "code",
   "execution_count": null,
   "metadata": {},
   "outputs": [],
   "source": [
    "r.add_recording(load_recorder(shimi, \"reallY_high_foot\"))"
   ]
  },
  {
   "cell_type": "code",
   "execution_count": null,
   "metadata": {},
   "outputs": [],
   "source": [
    "for i, p in enumerate(r.velocities):\n",
    "    pos = list(p)\n",
    "    pos.pop(3)\n",
    "    r.velocities[i] = tuple(pos)"
   ]
  },
  {
   "cell_type": "code",
   "execution_count": null,
   "metadata": {
    "collapsed": true
   },
   "outputs": [],
   "source": [
    "r2 = load_recorder(shimi, \"bow\")"
   ]
  },
  {
   "cell_type": "code",
   "execution_count": null,
   "metadata": {
    "collapsed": true
   },
   "outputs": [],
   "source": [
    "r = r2"
   ]
  },
  {
   "cell_type": "code",
   "execution_count": null,
   "metadata": {},
   "outputs": [],
   "source": [
    "r.positions"
   ]
  },
  {
   "cell_type": "code",
   "execution_count": null,
   "metadata": {
    "collapsed": true
   },
   "outputs": [],
   "source": []
  }
 ],
 "metadata": {
  "kernelspec": {
   "display_name": "Python (shimi)",
   "language": "python",
   "name": "shimi"
  },
  "language_info": {
   "codemirror_mode": {
    "name": "ipython",
    "version": 3
   },
   "file_extension": ".py",
   "mimetype": "text/x-python",
   "name": "python",
   "nbconvert_exporter": "python",
   "pygments_lexer": "ipython3",
   "version": "3.6.6"
  }
 },
 "nbformat": 4,
 "nbformat_minor": 2
}
